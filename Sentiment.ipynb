{
 "cells": [
  {
   "cell_type": "code",
   "execution_count": 1,
   "metadata": {
    "collapsed": false
   },
   "outputs": [
    {
     "data": {
      "text/plain": [
       "array([['A', 'Agilent Technologies Incorporated', 1277790, '03/14/2001'],\n",
       "       ['A', 'Agilent Technologies Incorporated', 1280871, '03/26/2001'],\n",
       "       ['A', 'Agilent Technologies Incorporated', 1295233, '05/21/2001'],\n",
       "       ..., \n",
       "       ['YHOO', 'Yahoo.com', 1459920, '01/27/2003'],\n",
       "       ['YHOO', 'Yahoo.com', 1566838, '03/16/2004'],\n",
       "       ['YHOO', 'Yahoo.com', 1635045, '12/16/2004']], dtype=object)"
      ]
     },
     "execution_count": 1,
     "metadata": {},
     "output_type": "execute_result"
    }
   ],
   "source": [
    "import pandas as pd\n",
    "df=pd.read_csv('togd.txt', sep=',',header=None)\n",
    "df.values"
   ]
  },
  {
   "cell_type": "code",
   "execution_count": null,
   "metadata": {
    "collapsed": false
   },
   "outputs": [
    {
     "name": "stdout",
     "output_type": "stream",
     "text": [
      "./stocks/A.csv\n",
      "./stocks/AAL.csv\n",
      "./stocks/AAP.csv\n",
      "./stocks/AAPL.csv\n",
      "./stocks/ABBV.csv\n",
      "./stocks/ABC.csv\n",
      "./stocks/ABT.csv\n",
      "./stocks/ACN.csv\n"
     ]
    }
   ],
   "source": [
    "import glob\n",
    "filename = './stocks/*.csv'\n",
    "files = sorted( glob.glob(filename ))\n",
    "for f in files:\n",
    "    print f\n",
    "    df=pd.read_csv(f, sep=',',header=None)\n",
    "    for i in range(10, df.shape[0]):\n",
    "        before = 0.\n",
    "        for j in range(1,4):\n",
    "            before += float(df.loc[i-j,4])\n",
    "        before /= 5\n",
    "        bbefore = 0.\n",
    "        for j in range(4,7):\n",
    "            bbefore += float(df.loc[i-j,4])\n",
    "        bbefore /= 5\n",
    "        df.loc[i,'sentiment'] = (before - bbefore)/bbefore\n",
    "    df.to_csv('./new/'+f.split('/')[2], sep=',')"
   ]
  },
  {
   "cell_type": "code",
   "execution_count": null,
   "metadata": {
    "collapsed": true
   },
   "outputs": [],
   "source": []
  }
 ],
 "metadata": {
  "kernelspec": {
   "display_name": "Python 2",
   "language": "python",
   "name": "python2"
  },
  "language_info": {
   "codemirror_mode": {
    "name": "ipython",
    "version": 2
   },
   "file_extension": ".py",
   "mimetype": "text/x-python",
   "name": "python",
   "nbconvert_exporter": "python",
   "pygments_lexer": "ipython2",
   "version": "2.7.6"
  }
 },
 "nbformat": 4,
 "nbformat_minor": 1
}
