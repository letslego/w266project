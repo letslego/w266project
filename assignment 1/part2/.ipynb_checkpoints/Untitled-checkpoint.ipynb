{
 "cells": [
  {
   "cell_type": "code",
   "execution_count": 3,
   "metadata": {
    "collapsed": true
   },
   "outputs": [],
   "source": [
    "import os\n",
    "h = open('hot.txt','w')\n",
    "n = open('not.txt','w')\n",
    "for line in open('all.full.txt'):\n",
    "    if line[0] == 'p':\n",
    "        h.write(line.split('|')[1])\n",
    "    else:\n",
    "        if line[0] == 'n':\n",
    "            n.write(line.split('|')[1])\n",
    "h.close()\n",
    "n.close()\n",
    "        "
   ]
  },
  {
   "cell_type": "code",
   "execution_count": 20,
   "metadata": {
    "collapsed": false
   },
   "outputs": [],
   "source": [
    "import numpy as np\n",
    "rng = np.random.RandomState(True)\n",
    "h = open('hot.train.txt','w')\n",
    "ht = open('hot.test.txt', 'w')\n",
    "n = open('not.train.txt','w')\n",
    "nt = open('not.test.txt','w')\n",
    "\n",
    "hh = []\n",
    "nn = []\n",
    "for line in open('all.full.txt'):\n",
    "    if line[0] == 'p':\n",
    "        hh.append(line.split('|')[1].strip())\n",
    "    else:\n",
    "        if line[0] == 'n':\n",
    "            nn.append(line.split('|')[1].strip())\n",
    "np.random.seed(10)\n",
    "rng.shuffle(hh)  # in-place\n",
    "rng.shuffle(nn)\n",
    "#print len(hh), len(nn)\n",
    "#shuf_idx = np.random.permutation(len(hh))\n",
    "#print shuf_idx\n",
    "#print hh[:10]\n",
    "#hh = hh[shuf_idx]\n",
    "#shuf_idx = np.random.permutation(len(nn))\n",
    "#nn = nn[shuf_idx]\n",
    "\n",
    "for i in hh[:40000]:\n",
    "    h.write(i+'\\n')\n",
    "for i in nn[:40000]:\n",
    "    n.write(i+'\\n')\n",
    "for i in hh[40000:]:\n",
    "    ht.write(i+'\\n')\n",
    "for i in nn[40000:]:\n",
    "    nt.write(i+'\\n')\n",
    "h.close()\n",
    "n.close()\n",
    "ht.close()\n",
    "nt.close()"
   ]
  },
  {
   "cell_type": "code",
   "execution_count": null,
   "metadata": {
    "collapsed": true
   },
   "outputs": [],
   "source": []
  }
 ],
 "metadata": {
  "kernelspec": {
   "display_name": "Python 2",
   "language": "python",
   "name": "python2"
  },
  "language_info": {
   "codemirror_mode": {
    "name": "ipython",
    "version": 2
   },
   "file_extension": ".py",
   "mimetype": "text/x-python",
   "name": "python",
   "nbconvert_exporter": "python",
   "pygments_lexer": "ipython2",
   "version": "2.7.6"
  }
 },
 "nbformat": 4,
 "nbformat_minor": 0
}
