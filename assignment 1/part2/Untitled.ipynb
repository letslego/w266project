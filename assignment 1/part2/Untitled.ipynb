{
 "cells": [
  {
   "cell_type": "code",
   "execution_count": 3,
   "metadata": {
    "collapsed": true
   },
   "outputs": [],
   "source": [
    "import os\n",
    "h = open('hot.txt','w')\n",
    "n = open('not.txt','w')\n",
    "for line in open('all.full.txt'):\n",
    "    if line[0] == 'p':\n",
    "        h.write(line.split('|')[1])\n",
    "    else:\n",
    "        if line[0] == 'n':\n",
    "            n.write(line.split('|')[1])\n",
    "h.close()\n",
    "n.close()\n",
    "        "
   ]
  },
  {
   "cell_type": "code",
   "execution_count": 7,
   "metadata": {
    "collapsed": false
   },
   "outputs": [],
   "source": [
    "import numpy as np\n",
    "rng = np.random.RandomState(True)\n",
    "h = open('hot.train.txt','w')\n",
    "ht = open('hot.test.txt', 'w')\n",
    "n = open('not.train.txt','w')\n",
    "nt = open('not.test.txt','w')\n",
    "\n",
    "senti = [i.strip() for i in open('sn0p.new.full.txt')]\n",
    "\n",
    "hh = []\n",
    "nn = []\n",
    "k = 0\n",
    "for line in open('all.full.txt'):\n",
    "    if senti[k] == 'p':\n",
    "        hh.append(line.split('|')[1].strip())\n",
    "    else:\n",
    "        if senti[k] == 'n':\n",
    "            nn.append(line.split('|')[1].strip())\n",
    "    k = k + 1\n",
    "np.random.seed(10)\n",
    "rng.shuffle(hh)  # in-place\n",
    "rng.shuffle(nn)\n",
    "#print len(hh), len(nn)\n",
    "#shuf_idx = np.random.permutation(len(hh))\n",
    "#print shuf_idx\n",
    "#print hh[:10]\n",
    "#hh = hh[shuf_idx]\n",
    "#shuf_idx = np.random.permutation(len(nn))\n",
    "#nn = nn[shuf_idx]\n",
    "\n",
    "for i in hh[:24000]:\n",
    "    h.write(i+'\\n')\n",
    "for i in nn[:11000]:\n",
    "    n.write(i+'\\n')\n",
    "for i in hh[24000:]:\n",
    "    ht.write(i+'\\n')\n",
    "for i in nn[11000:]:\n",
    "    nt.write(i+'\\n')\n",
    "h.close()\n",
    "n.close()\n",
    "ht.close()\n",
    "nt.close()"
   ]
  },
  {
   "cell_type": "code",
   "execution_count": 2,
   "metadata": {
    "collapsed": false
   },
   "outputs": [],
   "source": [
    "n = [i.strip() for i in open('sn0p.new.txt')]\n",
    "f = [i.strip() for i in open('sn0p.full.txt')]\n",
    "g = open('sn0p.new.full.txt', 'w')\n",
    "for x, y in zip(n, f):\n",
    "    if x=='P' and y=='p':\n",
    "        g.write('p\\n')\n",
    "    else:\n",
    "        if x=='N' and y=='n':\n",
    "            g.write('n\\n')\n",
    "        else:\n",
    "            g.write('0\\n')\n",
    "g.close()\n",
    "            "
   ]
  },
  {
   "cell_type": "code",
   "execution_count": 6,
   "metadata": {
    "collapsed": false
   },
   "outputs": [
    {
     "data": {
      "text/plain": [
       "Counter({'0': 83584, 'n': 14869, 'p': 31598})"
      ]
     },
     "execution_count": 6,
     "metadata": {},
     "output_type": "execute_result"
    }
   ],
   "source": [
    "import collections\n",
    "\n",
    "x = [i.strip() for i in open('sn0p.new.full.txt')]\n",
    "collections.Counter(x)"
   ]
  },
  {
   "cell_type": "code",
   "execution_count": null,
   "metadata": {
    "collapsed": true
   },
   "outputs": [],
   "source": []
  }
 ],
 "metadata": {
  "kernelspec": {
   "display_name": "Python 2",
   "language": "python",
   "name": "python2"
  },
  "language_info": {
   "codemirror_mode": {
    "name": "ipython",
    "version": 2
   },
   "file_extension": ".py",
   "mimetype": "text/x-python",
   "name": "python",
   "nbconvert_exporter": "python",
   "pygments_lexer": "ipython2",
   "version": "2.7.6"
  }
 },
 "nbformat": 4,
 "nbformat_minor": 0
}
