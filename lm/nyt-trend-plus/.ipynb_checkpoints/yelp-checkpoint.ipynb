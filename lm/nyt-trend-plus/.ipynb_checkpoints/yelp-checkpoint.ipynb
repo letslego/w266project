{
 "cells": [
  {
   "cell_type": "code",
   "execution_count": 21,
   "metadata": {
    "collapsed": false
   },
   "outputs": [],
   "source": [
    "import json\n",
    "from sets import Set\n",
    "import collections\n",
    "\n",
    "f = []\n",
    "for i in range(5):\n",
    "    f.append(open(str(i+1)+'.txt', 'w'))\n",
    "for line in open('yelp.json'):\n",
    "    j = json.loads(line)\n",
    "    s = j['stars']\n",
    "    f[s-1].write(j['text'].strip().encode('utf-8'))\n",
    "for g in f:\n",
    "    g.close()\n"
   ]
  },
  {
   "cell_type": "code",
   "execution_count": 14,
   "metadata": {
    "collapsed": false
   },
   "outputs": [],
   "source": [
    "import os\n",
    "f=open('yelp.json')\n",
    "g=open('t.txt', 'w')\n",
    "for k in range(100):\n",
    "    g.write(f.readline())\n",
    "g.close()\n",
    "f.close()\n",
    "    "
   ]
  },
  {
   "cell_type": "code",
   "execution_count": 24,
   "metadata": {
    "collapsed": false
   },
   "outputs": [
    {
     "name": "stdout",
     "output_type": "stream",
     "text": [
      "86732\n",
      "65308\n",
      "98967\n",
      "183107\n",
      "346193\n"
     ]
    }
   ],
   "source": [
    "\n",
    "c = []\n",
    "for i in range(5):\n",
    "    c.append([j for j in open('../../../../yelp/str(i+1)+'.txt')])\n",
    "for i in range(5):\n",
    "    print len(c[i])"
   ]
  },
  {
   "cell_type": "code",
   "execution_count": 25,
   "metadata": {
    "collapsed": true
   },
   "outputs": [],
   "source": [
    "ll = [len(d) for d in c]"
   ]
  },
  {
   "cell_type": "code",
   "execution_count": 26,
   "metadata": {
    "collapsed": false
   },
   "outputs": [
    {
     "name": "stdout",
     "output_type": "stream",
     "text": [
      "[86732, 65308, 98967, 183107, 346193]\n"
     ]
    }
   ],
   "source": [
    "print ll"
   ]
  },
  {
   "cell_type": "code",
   "execution_count": 27,
   "metadata": {
    "collapsed": false
   },
   "outputs": [
    {
     "data": {
      "text/plain": [
       "Counter({65308: 1, 86732: 1, 98967: 1, 183107: 1, 346193: 1})"
      ]
     },
     "execution_count": 27,
     "metadata": {},
     "output_type": "execute_result"
    }
   ],
   "source": [
    "collections.Counter(ll)"
   ]
  },
  {
   "cell_type": "code",
   "execution_count": 28,
   "metadata": {
    "collapsed": false
   },
   "outputs": [
    {
     "name": "stdout",
     "output_type": "stream",
     "text": [
      "780307\n"
     ]
    }
   ],
   "source": [
    "print sum(ll)"
   ]
  },
  {
   "cell_type": "code",
   "execution_count": 29,
   "metadata": {
    "collapsed": true
   },
   "outputs": [],
   "source": [
    "aa = [k*1.0/sum(ll) for k in ll]"
   ]
  },
  {
   "cell_type": "code",
   "execution_count": 30,
   "metadata": {
    "collapsed": false
   },
   "outputs": [
    {
     "name": "stdout",
     "output_type": "stream",
     "text": [
      "[0.11115112385253496, 0.08369526353089232, 0.12683084990907426, 0.23466020425294146, 0.443662558454557]\n"
     ]
    }
   ],
   "source": [
    "print aa"
   ]
  },
  {
   "cell_type": "code",
   "execution_count": 31,
   "metadata": {
    "collapsed": true
   },
   "outputs": [],
   "source": [
    "bb = [k*50000/ll[1] for k in ll]"
   ]
  },
  {
   "cell_type": "code",
   "execution_count": 51,
   "metadata": {
    "collapsed": false
   },
   "outputs": [],
   "source": [
    "f=open('tmp.txt', 'w')\n",
    "ccc = ['a', 'b', 'c']\n",
    "\n",
    "f.write('\\n'.join(ccc))\n",
    "f.close()"
   ]
  },
  {
   "cell_type": "code",
   "execution_count": 55,
   "metadata": {
    "collapsed": false
   },
   "outputs": [
    {
     "name": "stdout",
     "output_type": "stream",
     "text": [
      "['Normally, I do not do reviews of an establishment unless the rating is exceptionally great or exceptionally bad.  If I had not felt sucker punched and mugged after I left Mr. Hoagie, I would not be writing this bad review.  On my first and last trip there, I paid $24.59 for two whole hoagies.  1) The Italian (ordered because the woman (she) working there told me it was their most popular hoagie) I ordered with lettuce and onions (no tomato, italian dressing which all come free with the hoagie).  I had to pay $1 to add cheese to the hoagie.  Because I was traveling and would not be eating the hoagie right away, I asked for the italian on the side.  She told me there was a charge for the dressing on the side.  I passed on that on principle.  Are you kidding me?  I just saved her money by declining the tomato.  I was not going to pay for the dressing on the side.  At this point, I am certain something is not right and this place appears to me to be in financial trouble.  That pales in comparison to what happened next.  I opened the hoagie and there were three microscopically thin slices of meat on this hoagie.  Ham, salami, and bologna.  Bologna!?!?!?!?    Who in the hell puts disgusting bologna on an Italian hoagie?  That disqualifies that hoagie as an Italian.  The red flags indicating this place is in financial trouble are blinding my view.  One area of this hoagie only had one slice of bologna, no ham and no salami.2)  The Steak hoagie came with nothing on it but lettuce, tomato, onions, and dressing.  I ordered it without lettuce, tomato, onions, or dressing.  I asked for mayo on the side.  I had to pay for that so I declined.  Are you kidding me?  I just saved them money by passing on the lettuce, tomato, fresh onions, and dressing!  I paid $3 to add saut\\xc3\\xa9ed mushrooms, onions, and cheese.  Here we go again.  Canned mushrooms that were not even cooked through (were still cold) and onions that were still crunchy/undercooked.  News flash:  you need to serve fresh mushrooms that have been saut\\xc3\\xa9ed (canned mushrooms are another sign this place is in financial trouble).  I literally had to open the hoagie to find the steak because I could not taste or see it.  The hoagie was 50% mushrooms, 30%onions, 10% cheese and 10% steak.I could have personally made 10 whole hoagies with substantial quality ingredients and toppings for the $24.59 I paid for these two whole hoagies.  I intentionally patronize non-chain restaurants to support small businesses.  In this case, Never. Again.  (The hoagie bun was better than average.)  Wake up or you are going to lose your business.Wing sauce is like water. Pretty much a lot of butter and some hot sauce (franks red hot maybe).  The whole wings are good size and crispy, but for $1 a wing the sauce could be better. The hot and extra hot are about the same flavor/heat.  The fish sandwich is good and is a large portion, sides are decent.Owning a driving range inside the city limits is like a license to print money.  I don\\'t think I ask much out of a driving range.  Decent mats, clean balls and accessible hours.  Hell you need even less people now with the advent of the machine that doles out the balls.  This place has none of them.  It is april and there are no grass tees yet.  BTW they opened for the season this week although it has been golfing weather for a month.  The mats look like the carpet at my 107 year old aunt Irene\\'s house.  Worn and thread bare.  Let\\'s talk about the hours.  This place is equipped with lights yet they only sell buckets of balls until 730.  It is still light out.  Finally lets you have the pit to hit into.  When I arrived I wasn\\'t sure if this was a driving range or an excavation site for a mastodon or a strip mining operation.  There is no grass on the range. Just mud.  Makes it a good tool to figure out how far you actually are hitting the ball.  Oh, they are cash only also.Bottom line, this place sucks.  The best hope is that the owner sells it to someone that actually wants to make money and service golfers in Pittsburgh.This place is absolute garbage...  Half of the tees are not available, including all the grass tees.  It is cash only, and they sell the last bucket at 8, despite having lights.  And if you finish even a minute after 8, don\\'t plan on getting a drink.  The vending machines are sold out (of course) and they sell drinks inside, but close the drawers at 8 on the dot.  There are weeds grown all over the place.  I noticed some sort of batting cage, but it looks like those are out of order as well.  Someone should buy this place and turn it into what it should be.Used to go there for tires, brakes, etc.  Their prices have gone way up-$400 for 4 mid-level tires for a Toyota.  Plus, 1 of the new tires went flat within 3 weeks.  Since they don\"t make appointments,  the wait to get the tire looked at was ~2 hours.  Sorry--can\\'t wait that long to get a warranted repair,  They lost my business for good.I got \\'new\\' tires from them and within two weeks got a flat. I took my car to a local mechanic to see if i could get the hole patched, but they said the reason I had a flat was because the previous patch had blown - WAIT, WHAT? I just got the tire and never needed to have it patched? This was supposed to be a new tire.I took the tire over to Flynn\\'s and they told me that someone punctured my tire, then tried to patch it. So there are resentful tire slashers? I find that very unlikely. After arguing with the guy and telling him that his logic was far fetched he said he\\'d give me a new tire \"this time\".I will never go back to Flynn\\'s b/c of the way this guy treated me and the simple fact that they gave me a used tire!Terrible. Preordered my tires and when I arrived they couldn\\'t find the order anywhere. Once we got through that process I waited over 2 hours for them to be put on... I was originally told it would take 30 mins. Slow, over priced, I\\'ll go elsewhere next time.Last summer I had an appointment to get new tires and had to wait a super long time. I also went in this week for them to fix a minor problem with a tire they put on. They \"fixed\" it for free, and the very next morning I had the same issue. I called to complain, and the \"manager\" didn\\'t even apologize!!! So frustrated. Never going back.  They seem overpriced, too.Don\\'t waste your time.  We had two different people come to our house to give us estimates for a deck (one of them the OWNER).  Both times, we never heard from them.  Not a call, not the estimate, nothing.I can;t believe this place has a high rating. I had a bichon, who was seen here since his puppyhood and who was dying. I called to make an appointment to have him put down because he was in great pain. The receptionist would not give me an appointment until one week later, even though she could hear him crying out in pain. Anyway, he died in agony before his appointment. This was in 2010 and I have not taken my subsequent pets to the clinic.Three months ago I brought my 13 yr old golden retriever to this clinic for an ear problem. It was diagnosed and treated.  Shortly after returning home she started to cough and gag like.  I watched her for a couple hours do this and then called the vet to see if maybe she was having an allergic reaction to the medicine they gave her.  She was very uncomfortable.  I asked if they though she needed to come back to the office.  The dr told me that it sounded like she was overheated and to put cold towels on her.  I told him that I didn\\'t think that was the problem because she hadn\\'t been out.  At this point they were open and would be for another hour.   Two hours later I was at a vet hospital with them telling me she is suffering from a heart problem and that they really couldn\\'t do anything for her.  WHAT?!?!  So I found myself having to put her down.  Fast forward to now.  I have a 14 wk puppy that has blood in its stool. They have not seen her yet. I bring in a sample.  Wait 24 hrs.  They leave a message that it\\'s positive and to call for an appt.  I call. She has to wait 4 days to be seen.  WHAT?!?!?   Obviously my pups are out of there for good!  Thanks Greentree for caring for my animals...  Absolutely the worst care in all my experience with vets!!This place went from great to horrible. First visit was for a flat tire and recommended. Absolutely no problems. Now when I needed my car inspected in June, they put SNOW TIRES on my car. NOISY snow tires in the summer! I told them I didn\\'t want these tires and they told me I would have to come back the next day and talk to the owner. When I went back the owner told me they weren\\'t snow tires. The tires were called BLIZZARDS! I told him they are too noisy. He told me to come back another day. I tried and tried but he NEVER had the time. Very rude and once they get paid have no ethics.Never go to Rossi Tailoring and Dry Cleaners 393 Vanadium Road Pittsburgh, PA 15243. I decided to use a local business to do my dry cleaning. I dropped off 3 shirts at this establishment just before Thanksgiving. It is now late January. I have stopped by more than a half dozen times and have been given only ONE of the shirts. They have offered $20 a shirt for the shirts they lost. Those shirts are worth at least $50 each, and I refuse to take under $30 for each. I am tired of the run around, tired of promised phone calls that never happen (they have NEVER called me).  I wouldn\\'t use their services again if you paid me to.Station is closed.  Sign is blank and all fixtures from the store have been removed.This place is dirty and smells food is reely bad I took it home and feed it to the dog. Hope he don\\'t get sick from the food like I did.Used to love this place. People are nice and friendly.  Excellent food great pancakes Only stopped going after finding a roach in my potatoes   It\\'s a shame the place was one of my favorites.  Bit can\\'t go back after that experienceMy husband and I used to go to Gab and eat all of the time, and would always take out of towners here.  That last time we went we did something we\\'ve never done before and that was walk out!  My omelet was not cooked and it was runny, I asked for cheddar cheese and got american, my husband ordered a medium rare hamburger and got a burnt paper thin patty.  When we told the waitress she sent the cook over and he gave us attitude and was a total jerk.  He wanted to put my omelet in the microwave.  If I wanted a microwave omelet I would have gone to burger king.I would give this a solid one star. Let me tell you about my experience...\\n']\n"
     ]
    }
   ],
   "source": [
    "print c[0][0]"
   ]
  },
  {
   "cell_type": "code",
   "execution_count": 59,
   "metadata": {
    "collapsed": false
   },
   "outputs": [],
   "source": [
    "import random\n",
    "import numpy as np\n",
    "np.random.seed(0)\n",
    "c5 = [open(str(i+1)+'5.txt', 'w') for i in range(5)]\n",
    "ct = [open(str(i+1)+'t.txt', 'w') for i in range(5)]\n",
    "cp = [open(str(i+1)+'p.txt', 'w') for i in range(5)]\n",
    "\n",
    "for i in range(5):\n",
    "    shuf_idx = np.random.permutation(ll[i])\n",
    "    \n",
    "    c5[i].write('\\n'.join(c[i][:50000]))\n",
    "    ct[i].write('\\n'.join(c[i][50000:52000]))\n",
    "    cp[i].write('\\n'.join(c[i][:bb[i]]))\n",
    "    "
   ]
  },
  {
   "cell_type": "code",
   "execution_count": null,
   "metadata": {
    "collapsed": true
   },
   "outputs": [],
   "source": []
  }
 ],
 "metadata": {
  "kernelspec": {
   "display_name": "Python 2",
   "language": "python",
   "name": "python2"
  },
  "language_info": {
   "codemirror_mode": {
    "name": "ipython",
    "version": 2
   },
   "file_extension": ".py",
   "mimetype": "text/x-python",
   "name": "python",
   "nbconvert_exporter": "python",
   "pygments_lexer": "ipython2",
   "version": "2.7.6"
  }
 },
 "nbformat": 4,
 "nbformat_minor": 0
}
