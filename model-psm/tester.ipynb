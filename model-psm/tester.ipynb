{
 "cells": [
  {
   "cell_type": "code",
   "execution_count": 2,
   "metadata": {
    "collapsed": false
   },
   "outputs": [
    {
     "data": {
      "text/plain": [
       "<module 'rnnsm' from 'rnnsm.pyc'>"
      ]
     },
     "execution_count": 2,
     "metadata": {},
     "output_type": "execute_result"
    }
   ],
   "source": [
    "import os, sys, re, json, time, shutil\n",
    "import itertools\n",
    "import collections\n",
    "from IPython.display import display\n",
    "\n",
    "# NLTK for NLP utils and corpora\n",
    "import nltk\n",
    "\n",
    "# NumPy and TensorFlow\n",
    "import numpy as np\n",
    "import tensorflow as tf\n",
    "\n",
    "# Pandas because pandas are awesome, and for pretty-printing\n",
    "import pandas as pd\n",
    "# Set pandas floating point display\n",
    "pd.set_option('float_format', lambda f: \"{0:.04f}\".format(f))\n",
    "\n",
    "# Helper libraries for this notebook\n",
    "import utils; reload(utils)\n",
    "import vocabulary; reload(vocabulary)\n",
    "import rnnsm; reload(rnnsm)"
   ]
  },
  {
   "cell_type": "code",
   "execution_count": 7,
   "metadata": {
    "collapsed": false
   },
   "outputs": [
    {
     "name": "stdout",
     "output_type": "stream",
     "text": [
      "Loaded 57340 sentences (1.16119e+06 tokens)\n",
      "Training set: 45872 sentences (979646 tokens)\n",
      "Test set: 11468 sentences (181546 tokens)\n"
     ]
    }
   ],
   "source": [
    "corpus = utils.get_corpus('brown')\n",
    "senti = [int(line[:-2]) if len(line[:-2])!=0 else int(line[:]) for line in open('./senti.txt')]\n",
    "vocab = utils.build_vocab(corpus, 10000)\n",
    "train_sentences, test_sentences = utils.get_train_test_sents(corpus, 0.8, 0)\n",
    "train_ids = utils.preprocess_sentences(train_sentences, vocab)\n",
    "#train_target = \n",
    "test_ids = utils.preprocess_sentences(test_sentences, vocab)\n",
    "#test_target =\n"
   ]
  },
  {
   "cell_type": "code",
   "execution_count": 12,
   "metadata": {
    "collapsed": false
   },
   "outputs": [
    {
     "name": "stdout",
     "output_type": "stream",
     "text": [
      "1025519 193015 45872 11468 1161192 57340\n"
     ]
    }
   ],
   "source": [
    "print len(train_ids), len(test_ids), len(train_sentences), len(test_sentences), len(corpus.words()), len(corpus.sents())"
   ]
  },
  {
   "cell_type": "code",
   "execution_count": 13,
   "metadata": {
    "collapsed": false
   },
   "outputs": [
    {
     "data": {
      "text/plain": [
       "[[u'The',\n",
       "  u'Fulton',\n",
       "  u'County',\n",
       "  u'Grand',\n",
       "  u'Jury',\n",
       "  u'said',\n",
       "  u'Friday',\n",
       "  u'an',\n",
       "  u'investigation',\n",
       "  u'of',\n",
       "  u\"Atlanta's\",\n",
       "  u'recent',\n",
       "  u'primary',\n",
       "  u'election',\n",
       "  u'produced',\n",
       "  u'``',\n",
       "  u'no',\n",
       "  u'evidence',\n",
       "  u\"''\",\n",
       "  u'that',\n",
       "  u'any',\n",
       "  u'irregularities',\n",
       "  u'took',\n",
       "  u'place',\n",
       "  u'.'],\n",
       " [u'The',\n",
       "  u'jury',\n",
       "  u'further',\n",
       "  u'said',\n",
       "  u'in',\n",
       "  u'term-end',\n",
       "  u'presentments',\n",
       "  u'that',\n",
       "  u'the',\n",
       "  u'City',\n",
       "  u'Executive',\n",
       "  u'Committee',\n",
       "  u',',\n",
       "  u'which',\n",
       "  u'had',\n",
       "  u'over-all',\n",
       "  u'charge',\n",
       "  u'of',\n",
       "  u'the',\n",
       "  u'election',\n",
       "  u',',\n",
       "  u'``',\n",
       "  u'deserves',\n",
       "  u'the',\n",
       "  u'praise',\n",
       "  u'and',\n",
       "  u'thanks',\n",
       "  u'of',\n",
       "  u'the',\n",
       "  u'City',\n",
       "  u'of',\n",
       "  u'Atlanta',\n",
       "  u\"''\",\n",
       "  u'for',\n",
       "  u'the',\n",
       "  u'manner',\n",
       "  u'in',\n",
       "  u'which',\n",
       "  u'the',\n",
       "  u'election',\n",
       "  u'was',\n",
       "  u'conducted',\n",
       "  u'.'],\n",
       " [u'The',\n",
       "  u'September-October',\n",
       "  u'term',\n",
       "  u'jury',\n",
       "  u'had',\n",
       "  u'been',\n",
       "  u'charged',\n",
       "  u'by',\n",
       "  u'Fulton',\n",
       "  u'Superior',\n",
       "  u'Court',\n",
       "  u'Judge',\n",
       "  u'Durwood',\n",
       "  u'Pye',\n",
       "  u'to',\n",
       "  u'investigate',\n",
       "  u'reports',\n",
       "  u'of',\n",
       "  u'possible',\n",
       "  u'``',\n",
       "  u'irregularities',\n",
       "  u\"''\",\n",
       "  u'in',\n",
       "  u'the',\n",
       "  u'hard-fought',\n",
       "  u'primary',\n",
       "  u'which',\n",
       "  u'was',\n",
       "  u'won',\n",
       "  u'by',\n",
       "  u'Mayor-nominate',\n",
       "  u'Ivan',\n",
       "  u'Allen',\n",
       "  u'Jr.',\n",
       "  u'.'],\n",
       " [u'``',\n",
       "  u'Only',\n",
       "  u'a',\n",
       "  u'relative',\n",
       "  u'handful',\n",
       "  u'of',\n",
       "  u'such',\n",
       "  u'reports',\n",
       "  u'was',\n",
       "  u'received',\n",
       "  u\"''\",\n",
       "  u',',\n",
       "  u'the',\n",
       "  u'jury',\n",
       "  u'said',\n",
       "  u',',\n",
       "  u'``',\n",
       "  u'considering',\n",
       "  u'the',\n",
       "  u'widespread',\n",
       "  u'interest',\n",
       "  u'in',\n",
       "  u'the',\n",
       "  u'election',\n",
       "  u',',\n",
       "  u'the',\n",
       "  u'number',\n",
       "  u'of',\n",
       "  u'voters',\n",
       "  u'and',\n",
       "  u'the',\n",
       "  u'size',\n",
       "  u'of',\n",
       "  u'this',\n",
       "  u'city',\n",
       "  u\"''\",\n",
       "  u'.'],\n",
       " [u'The',\n",
       "  u'jury',\n",
       "  u'said',\n",
       "  u'it',\n",
       "  u'did',\n",
       "  u'find',\n",
       "  u'that',\n",
       "  u'many',\n",
       "  u'of',\n",
       "  u\"Georgia's\",\n",
       "  u'registration',\n",
       "  u'and',\n",
       "  u'election',\n",
       "  u'laws',\n",
       "  u'``',\n",
       "  u'are',\n",
       "  u'outmoded',\n",
       "  u'or',\n",
       "  u'inadequate',\n",
       "  u'and',\n",
       "  u'often',\n",
       "  u'ambiguous',\n",
       "  u\"''\",\n",
       "  u'.'],\n",
       " [u'It',\n",
       "  u'recommended',\n",
       "  u'that',\n",
       "  u'Fulton',\n",
       "  u'legislators',\n",
       "  u'act',\n",
       "  u'``',\n",
       "  u'to',\n",
       "  u'have',\n",
       "  u'these',\n",
       "  u'laws',\n",
       "  u'studied',\n",
       "  u'and',\n",
       "  u'revised',\n",
       "  u'to',\n",
       "  u'the',\n",
       "  u'end',\n",
       "  u'of',\n",
       "  u'modernizing',\n",
       "  u'and',\n",
       "  u'improving',\n",
       "  u'them',\n",
       "  u\"''\",\n",
       "  u'.'],\n",
       " [u'The',\n",
       "  u'grand',\n",
       "  u'jury',\n",
       "  u'commented',\n",
       "  u'on',\n",
       "  u'a',\n",
       "  u'number',\n",
       "  u'of',\n",
       "  u'other',\n",
       "  u'topics',\n",
       "  u',',\n",
       "  u'among',\n",
       "  u'them',\n",
       "  u'the',\n",
       "  u'Atlanta',\n",
       "  u'and',\n",
       "  u'Fulton',\n",
       "  u'County',\n",
       "  u'purchasing',\n",
       "  u'departments',\n",
       "  u'which',\n",
       "  u'it',\n",
       "  u'said',\n",
       "  u'``',\n",
       "  u'are',\n",
       "  u'well',\n",
       "  u'operated',\n",
       "  u'and',\n",
       "  u'follow',\n",
       "  u'generally',\n",
       "  u'accepted',\n",
       "  u'practices',\n",
       "  u'which',\n",
       "  u'inure',\n",
       "  u'to',\n",
       "  u'the',\n",
       "  u'best',\n",
       "  u'interest',\n",
       "  u'of',\n",
       "  u'both',\n",
       "  u'governments',\n",
       "  u\"''\",\n",
       "  u'.'],\n",
       " [u'Merger', u'proposed'],\n",
       " [u'However',\n",
       "  u',',\n",
       "  u'the',\n",
       "  u'jury',\n",
       "  u'said',\n",
       "  u'it',\n",
       "  u'believes',\n",
       "  u'``',\n",
       "  u'these',\n",
       "  u'two',\n",
       "  u'offices',\n",
       "  u'should',\n",
       "  u'be',\n",
       "  u'combined',\n",
       "  u'to',\n",
       "  u'achieve',\n",
       "  u'greater',\n",
       "  u'efficiency',\n",
       "  u'and',\n",
       "  u'reduce',\n",
       "  u'the',\n",
       "  u'cost',\n",
       "  u'of',\n",
       "  u'administration',\n",
       "  u\"''\",\n",
       "  u'.'],\n",
       " [u'The',\n",
       "  u'City',\n",
       "  u'Purchasing',\n",
       "  u'Department',\n",
       "  u',',\n",
       "  u'the',\n",
       "  u'jury',\n",
       "  u'said',\n",
       "  u',',\n",
       "  u'``',\n",
       "  u'is',\n",
       "  u'lacking',\n",
       "  u'in',\n",
       "  u'experienced',\n",
       "  u'clerical',\n",
       "  u'personnel',\n",
       "  u'as',\n",
       "  u'a',\n",
       "  u'result',\n",
       "  u'of',\n",
       "  u'city',\n",
       "  u'personnel',\n",
       "  u'policies',\n",
       "  u\"''\",\n",
       "  u'.']]"
      ]
     },
     "execution_count": 13,
     "metadata": {},
     "output_type": "execute_result"
    }
   ],
   "source": [
    "corpus.sents()[0:10]"
   ]
  },
  {
   "cell_type": "code",
   "execution_count": 14,
   "metadata": {
    "collapsed": false
   },
   "outputs": [
    {
     "name": "stdout",
     "output_type": "stream",
     "text": [
      "[ [u'The', u'Fulton', u'County', u'Grand', u'Jury', u'said', u'Friday', u'an', u'investigation', u'of', u\"Atlanta's\", u'recent', u'primary', u'election', u'produced', u'``', u'no', u'evidence', u\"''\", u'that', u'any', u'irregularities', u'took', u'place', u'.']\n",
      " [u'The', u'jury', u'further', u'said', u'in', u'term-end', u'presentments', u'that', u'the', u'City', u'Executive', u'Committee', u',', u'which', u'had', u'over-all', u'charge', u'of', u'the', u'election', u',', u'``', u'deserves', u'the', u'praise', u'and', u'thanks', u'of', u'the', u'City', u'of', u'Atlanta', u\"''\", u'for', u'the', u'manner', u'in', u'which', u'the', u'election', u'was', u'conducted', u'.']\n",
      " [u'The', u'September-October', u'term', u'jury', u'had', u'been', u'charged', u'by', u'Fulton', u'Superior', u'Court', u'Judge', u'Durwood', u'Pye', u'to', u'investigate', u'reports', u'of', u'possible', u'``', u'irregularities', u\"''\", u'in', u'the', u'hard-fought', u'primary', u'which', u'was', u'won', u'by', u'Mayor-nominate', u'Ivan', u'Allen', u'Jr.', u'.']\n",
      " [u'``', u'Only', u'a', u'relative', u'handful', u'of', u'such', u'reports', u'was', u'received', u\"''\", u',', u'the', u'jury', u'said', u',', u'``', u'considering', u'the', u'widespread', u'interest', u'in', u'the', u'election', u',', u'the', u'number', u'of', u'voters', u'and', u'the', u'size', u'of', u'this', u'city', u\"''\", u'.']\n",
      " [u'The', u'jury', u'said', u'it', u'did', u'find', u'that', u'many', u'of', u\"Georgia's\", u'registration', u'and', u'election', u'laws', u'``', u'are', u'outmoded', u'or', u'inadequate', u'and', u'often', u'ambiguous', u\"''\", u'.']\n",
      " [u'It', u'recommended', u'that', u'Fulton', u'legislators', u'act', u'``', u'to', u'have', u'these', u'laws', u'studied', u'and', u'revised', u'to', u'the', u'end', u'of', u'modernizing', u'and', u'improving', u'them', u\"''\", u'.']\n",
      " [u'The', u'grand', u'jury', u'commented', u'on', u'a', u'number', u'of', u'other', u'topics', u',', u'among', u'them', u'the', u'Atlanta', u'and', u'Fulton', u'County', u'purchasing', u'departments', u'which', u'it', u'said', u'``', u'are', u'well', u'operated', u'and', u'follow', u'generally', u'accepted', u'practices', u'which', u'inure', u'to', u'the', u'best', u'interest', u'of', u'both', u'governments', u\"''\", u'.']\n",
      " [u'Merger', u'proposed']\n",
      " [u'However', u',', u'the', u'jury', u'said', u'it', u'believes', u'``', u'these', u'two', u'offices', u'should', u'be', u'combined', u'to', u'achieve', u'greater', u'efficiency', u'and', u'reduce', u'the', u'cost', u'of', u'administration', u\"''\", u'.']\n",
      " [u'The', u'City', u'Purchasing', u'Department', u',', u'the', u'jury', u'said', u',', u'``', u'is', u'lacking', u'in', u'experienced', u'clerical', u'personnel', u'as', u'a', u'result', u'of', u'city', u'personnel', u'policies', u\"''\", u'.']]\n"
     ]
    }
   ],
   "source": [
    "print train_sentences[0:10]"
   ]
  },
  {
   "cell_type": "code",
   "execution_count": 16,
   "metadata": {
    "collapsed": false
   },
   "outputs": [
    {
     "name": "stdout",
     "output_type": "stream",
     "text": [
      "Loaded 155941 sentences (4.43612e+06 tokens)\n",
      "Training set: 124752 sentences (3525140 tokens)\n",
      "Test set: 31189 sentences (910981 tokens)\n"
     ]
    }
   ],
   "source": [
    "scorpus = utils.get_corpus('text.txt')\n",
    "senti = [int(line[:-2]) if len(line[:-2])!=0 else int(line[:]) for line in open('./senti.txt')]\n",
    "svocab = utils.build_vocab(scorpus, 10000)\n",
    "strain_sentences, stest_sentences = utils.get_train_test_sents(scorpus, 0.8, 0)\n",
    "strain_ids = utils.preprocess_sentences(strain_sentences, svocab)\n",
    "#train_target = \n",
    "stest_ids = utils.preprocess_sentences(stest_sentences, svocab)\n",
    "#test_target =\n"
   ]
  },
  {
   "cell_type": "code",
   "execution_count": 18,
   "metadata": {
    "collapsed": false
   },
   "outputs": [
    {
     "name": "stdout",
     "output_type": "stream",
     "text": [
      "[[u'Was', u'last', u'month', u'the', u'peak', u'?']\n",
      " [u'The', u'wave', u'of', u'buyouts', u'continued', u'to', u'rise', u'in', u'May', u',', u'making', u'it', u'the', u'one', u'of', u'the', u'biggest', u'deal', u'-', u'making', u'months', u'ever', u'.']\n",
      " [u'Only', u'January', u'2000', u',', u'when', u'the', u'America', u'Online', u'-', u'Time', u'Warner', u'merger', u'was', u'announced', u',', u'and', u'April', u'1998', u'(', u'the', u'Citicorp', u'-', u'Travelers', u'deal', u')', u'were', u'bigger', u'..', u'Dow', u'Jones', u',', u'which', u'owns', u'The', u'Wall', u'Street', u'Journal', u'and', u'other', u'media', u'properties', u',', u'is', u'entertaining', u'a', u'$', u'5', u'billion', u'takeover', u'offer', u'from', u'Rupert', u'Murdoch', u',', u'who', u'controls', u'the', u'News', u'Corporation', u'.']\n",
      " [u'The', u'Bancroft', u'family', u',', u'which', u'controls', u'Dow', u'Jones', u',', u'met', u'with', u'Mr', u'.', u'Murdoch', u'this', u'week', u'to', u'discuss', u'terms', u',', u'and', u'a', u'few', u'other', u'potential', u'suitors', u'have', u'stepped', u'forward', u'to', u'express', u'interest', u'in', u'bidding', u'for', u'the', u'company', u'.']\n",
      " [u'Without', u'the', u'taxes', u'being', u'paid', u',', u'Richard', u'F', u'.', u'Zannino', u',', u'who', u'became', u'the', u'chief', u'executive', u'of', u'Dow', u'Jones', u'in', u'February', u'2006', u',', u'could', u'be', u'eligible', u'for', u'more', u'than', u'$', u'19', u'.', u'7', u'million', u'in', u'severance', u',', u'retirement', u'benefits', u'and', u'stock', u'and', u'option', u'payouts', u'based', u'on', u'the', u'$', u'60', u'-', u'a', u'-', u'share', u'price', u'offered', u'by', u'the', u'News', u'Corporation', u'.']\n",
      " [u'L', u'.', u'Gordon', u'Crovitz', u',', u'The', u'Wall', u'Street', u'Journal', u\"'\", u's', u'publisher', u',', u'could', u'be', u'eligible', u'for', u'more', u'than', u'$', u'7', u'.', u'2', u'million', u'.']\n",
      " [u'The', u'Vodafone', u'Group', u',', u'the', u'world', u\"'\", u's', u'largest', u'cellphone', u'company', u',', u'said', u'on', u'Thursday', u'that', u'it', u'had', u'received', u'a', u'letter', u'from', u'a', u'group', u'of', u'shareholders', u'asking', u'it', u'to', u'return', u'as', u'much', u'as', u'\\xa3', u'38', u'billion', u'($', u'75', u'billion', u')', u'to', u'investors', u'in', u'part', u'by', u'spinning', u'off', u'its', u'stake', u'in', u'Verizon', u'Wireless', u'.']\n",
      " [u'In', u'the', u'latest', u'effort', u'by', u'minority', u'shareholders', u'to', u'influence', u'management', u'decisions', u',', u'a', u'little', u'-', u'known', u'group', u'of', u'investors', u',', u'Efficient', u'Capital', u'Structures', u',', u'suggested', u'that', u'Vodafone', u'give', u'its', u'investors', u'tracking', u'shares', u'representing', u'the', u'company', u\"'\", u's', u'45', u'percent', u'stake', u'in', u'Verizon', u'Wireless', u',', u'the', u'American', u'cellular', u'carrier', u';', u'increase', u'borrowing', u'as', u'a', u'way', u'to', u'return', u'more', u'money', u'to', u'shareholders', u';', u'and', u'ask', u'the', u'permission', u'of', u'shareholders', u'before', u'making', u'any', u'large', u'acquisitions', u'.']\n",
      " [u'An', u'analyst', u'at', u'Goldman', u'Sachs', u'in', u'London', u',', u'Simon', u'Weeden', u',', u'said', u'that', u'he', u'did', u'not', u'expect', u'the', u'claims', u'to', u'be', u'taken', u'seriously', u'and', u'that', u'a', u'spinoff', u'of', u'Vodafone', u\"'\", u's', u'stake', u'in', u'Verizon', u'Wireless', u'would', u'create', u'complex', u'tax', u'issues', u'and', u'would', u'dilute', u'shareholder', u'rights', u'.']\n",
      " [u'Contrast', u'that', u'with', u'the', u'success', u'of', u'the', u'Wii', u'.']]\n"
     ]
    }
   ],
   "source": [
    "print strain_sentences[0:10]\n"
   ]
  },
  {
   "cell_type": "code",
   "execution_count": 19,
   "metadata": {
    "collapsed": false
   },
   "outputs": [
    {
     "name": "stdout",
     "output_type": "stream",
     "text": [
      "3649893 942171 124752 31189 4435274 155941\n"
     ]
    }
   ],
   "source": [
    "print len(strain_ids), len(stest_ids), len(strain_sentences), len(stest_sentences), len(scorpus.words()), len(scorpus.sents())"
   ]
  },
  {
   "cell_type": "code",
   "execution_count": null,
   "metadata": {
    "collapsed": true
   },
   "outputs": [],
   "source": []
  }
 ],
 "metadata": {
  "kernelspec": {
   "display_name": "Python 2",
   "language": "python",
   "name": "python2"
  },
  "language_info": {
   "codemirror_mode": {
    "name": "ipython",
    "version": 2
   },
   "file_extension": ".py",
   "mimetype": "text/x-python",
   "name": "python",
   "nbconvert_exporter": "python",
   "pygments_lexer": "ipython2",
   "version": "2.7.6"
  }
 },
 "nbformat": 4,
 "nbformat_minor": 0
}
