{
 "cells": [
  {
   "cell_type": "code",
   "execution_count": 1,
   "metadata": {
    "collapsed": false
   },
   "outputs": [],
   "source": [
    "#!pip install --upgrade pip\n",
    "#!pip install --upgrade tensorflow\n",
    "#!pip install --upgrade numpy\n",
    "#!pip install --upgrade nltk\n",
    "#!pip install --upgrade pandas\n"
   ]
  },
  {
   "cell_type": "code",
   "execution_count": 2,
   "metadata": {
    "collapsed": false
   },
   "outputs": [
    {
     "data": {
      "text/plain": [
       "<module 'rnnsm' from 'rnnsm.pyc'>"
      ]
     },
     "execution_count": 2,
     "metadata": {},
     "output_type": "execute_result"
    }
   ],
   "source": [
    "import os, sys, re, json, time, shutil\n",
    "import itertools\n",
    "import collections\n",
    "from IPython.display import display\n",
    "\n",
    "# NLTK for NLP utils and corpora\n",
    "import nltk\n",
    "\n",
    "# NumPy and TensorFlow\n",
    "import numpy as np\n",
    "import tensorflow as tf\n",
    "\n",
    "# Pandas because pandas are awesome, and for pretty-printing\n",
    "import pandas as pd\n",
    "# Set pandas floating point display\n",
    "pd.set_option('float_format', lambda f: \"{0:.04f}\".format(f))\n",
    "\n",
    "# Helper libraries for this notebook\n",
    "import utils; reload(utils)\n",
    "import vocabulary; reload(vocabulary)\n",
    "import rnnsm; reload(rnnsm)"
   ]
  },
  {
   "cell_type": "code",
   "execution_count": 3,
   "metadata": {
    "collapsed": false,
    "scrolled": true
   },
   "outputs": [],
   "source": [
    "import tensorflow as tf\n",
    "import rnnsm; reload(rnnsm)\n",
    "\n",
    "# Clear old log directory\n",
    "shutil.rmtree(\"tf_summaries\", ignore_errors=True)\n",
    "\n",
    "\n",
    "with tf.Graph().as_default():\n",
    "  tf.set_random_seed(42)\n",
    "\n",
    "  sm = rnnsm.RNNSM(V=10000, Z=6, H=200, num_layers=2)\n",
    "  sm.BuildCoreGraph()\n",
    "  sm.BuildTrainGraph()\n",
    "  sm.BuildSamplerGraph()\n",
    "\n",
    "  summary_writer = tf.train.SummaryWriter(\"tf_summaries\", \n",
    "                                          tf.get_default_graph())"
   ]
  },
  {
   "cell_type": "code",
   "execution_count": 4,
   "metadata": {
    "collapsed": false
   },
   "outputs": [],
   "source": [
    "def run_epoch(sm, session, batch_iterator, train=False,\n",
    "              verbose=False, tick_s=10, \n",
    "              keep_prob=1.0, learning_rate=0.1):\n",
    "  start_time = time.time()\n",
    "  tick_time = start_time  # for showing status\n",
    "  total_cost = 0.0  # total cost, summed over all words\n",
    "  total_words = 0\n",
    "\n",
    "  if train:\n",
    "    train_op = sm.train_step_\n",
    "    keep_prob = keep_prob\n",
    "    loss = sm.train_loss_\n",
    "  else:\n",
    "    train_op = tf.no_op()\n",
    "    keep_prob = 1.0  # no dropout at test time\n",
    "    loss = sm.loss_  # true loss, if train_loss is an approximation\n",
    "\n",
    "  for i, (w, y) in enumerate(batch_iterator):\n",
    "    cost = 0.0\n",
    "    #### YOUR CODE HERE ####\n",
    "    np.random.seed(42)\n",
    "\n",
    "    # At first batch in epoch, get a clean intitial state\n",
    "    if i == 0:\n",
    "        h = session.run(sm.initial_h_, {sm.input_w_: w})\n",
    " \n",
    "    cost, h, _ = session.run([loss, sm.final_h_, train_op], feed_dict= {sm.target_y_: y, sm.initial_h_:h,\n",
    "        sm.input_w_: w, sm.dropout_keep_prob_:keep_prob, sm.learning_rate_:learning_rate})      \n",
    "    \n",
    "    #### END(YOUR CODE) ####\n",
    "    total_cost += cost\n",
    "    total_words += w.size  # w.size = batch_size * max_time\n",
    "\n",
    "    ##\n",
    "    # Print average loss-so-far for epoch\n",
    "    # If using train_loss_, this may be an underestimate.\n",
    "    if verbose and (time.time() - tick_time >= tick_s):\n",
    "      avg_cost = total_cost / total_words\n",
    "      avg_wps = total_words / (time.time() - start_time)\n",
    "      print \"[batch %d]: seen %d words at %d wps, loss = %.3f\" % (i,\n",
    "          total_words, avg_wps, avg_cost)\n",
    "      tick_time = time.time()  # reset time ticker\n",
    "\n",
    "  return total_cost / total_words"
   ]
  },
  {
   "cell_type": "code",
   "execution_count": 5,
   "metadata": {
    "collapsed": false
   },
   "outputs": [
    {
     "name": "stdout",
     "output_type": "stream",
     "text": [
      "Mon, 12 Dec 2016 20:49:48\n",
      "Loaded 130043 sentences (4.28016e+06 tokens)\n",
      "Training set: 104034 sentences (3413086 tokens)\n",
      "Test set: 26009 sentences (867074 tokens)\n",
      "Loaded 130043 sentences (130043 tokens)\n",
      "Training set: 104034 sentences (104034 tokens)\n",
      "Test set: 26009 sentences (26009 tokens)\n",
      "Mon, 12 Dec 2016 20:50:33\n"
     ]
    }
   ],
   "source": [
    "# Load the dataset\n",
    "import time\n",
    "os.environ['TZ'] = 'US/Pacific'\n",
    "print time.strftime(\"%a, %d %b %Y %H:%M:%S\", time.localtime())\n",
    "reload(utils)\n",
    "V = 10000\n",
    "Z = 63\n",
    "vocab, train_ids, train_sids, test_ids, test_sids = utils.load_corpus(\"text.txt\", \"senti.txt\", split=0.8, V=V, Z=Z, shuffle=False)\n",
    "print time.strftime(\"%a, %d %b %Y %H:%M:%S\", time.localtime())"
   ]
  },
  {
   "cell_type": "code",
   "execution_count": 6,
   "metadata": {
    "collapsed": false
   },
   "outputs": [
    {
     "name": "stdout",
     "output_type": "stream",
     "text": [
      "[   0  155  807   40    3  101    4  149 7208  108  285   31  207    3    8\n",
      "  685   40   36    4    2]\n",
      "[30 30 30 30 30 30 30 30 30 30 30 30 30 30 30 30 30 30 30 30]\n",
      "[   0   45    4 4064   16  139    7    4  159   11 5645  370    6 3279    4\n",
      " 2754    7   20 2768    5]\n",
      "[26 26 26 26 26 26 26 26 26 26 26 26 26 26 26 26 26 26 26 26]\n",
      "3517121 3517121 893084 893084\n"
     ]
    }
   ],
   "source": [
    "print train_ids[:20]\n",
    "print train_sids[:20]\n",
    "print test_ids[:20]\n",
    "print test_sids[:20]\n",
    "print len(train_ids), len(train_sids), len(test_ids), len(test_sids)"
   ]
  },
  {
   "cell_type": "code",
   "execution_count": 7,
   "metadata": {
    "collapsed": false
   },
   "outputs": [],
   "source": [
    "# Training parameters\n",
    "max_time = 20\n",
    "batch_size = 50\n",
    "learning_rate = 0.5\n",
    "keep_prob = 1.0\n",
    "num_epochs = 50\n",
    "\n",
    "# Model parameters\n",
    "model_params = dict(V=V, \n",
    "                    H=100,\n",
    "                    Z=Z,\n",
    "                    num_layers=1)\n",
    "\n",
    "trained_filename = './tf_saved/rnnsm_trained'"
   ]
  },
  {
   "cell_type": "code",
   "execution_count": 8,
   "metadata": {
    "collapsed": false
   },
   "outputs": [],
   "source": [
    "def score_dataset(sm, session, ids, sids, name=\"Data\"):\n",
    "  bi = utils.batch_generator(ids, sids, batch_size=100, max_time=100)\n",
    "  cost = run_epoch(sm, session, bi, \n",
    "                   learning_rate=1.0, keep_prob=1.0, \n",
    "                   train=False, verbose=False, tick_s=3600)\n",
    "  print \"%s: avg. loss: %.03f  (perplexity: %.02f)\" % (name, cost, np.exp(cost))"
   ]
  },
  {
   "cell_type": "code",
   "execution_count": 9,
   "metadata": {
    "collapsed": false
   },
   "outputs": [
    {
     "name": "stdout",
     "output_type": "stream",
     "text": [
      "Mon, 12 Dec 2016 20:53:47\n",
      "WARNING:tensorflow:From <ipython-input-9-f8ecc4b8f1e5>:19 in <module>.: initialize_all_variables (from tensorflow.python.ops.variables) is deprecated and will be removed after 2017-03-02.\n",
      "Instructions for updating:\n",
      "Use `tf.global_variables_initializer` instead.\n"
     ]
    },
    {
     "name": "stderr",
     "output_type": "stream",
     "text": [
      "WARNING:tensorflow:From <ipython-input-9-f8ecc4b8f1e5>:19 in <module>.: initialize_all_variables (from tensorflow.python.ops.variables) is deprecated and will be removed after 2017-03-02.\n",
      "Instructions for updating:\n",
      "Use `tf.global_variables_initializer` instead.\n"
     ]
    },
    {
     "name": "stdout",
     "output_type": "stream",
     "text": [
      "[epoch 1] Starting epoch 1\n",
      "Mon, 12 Dec 2016 21:01:14\n",
      "[epoch 1] Completed in 0:07:25\n",
      "[epoch 1] Train set: avg. loss: 3.276  (perplexity: 26.47)\n",
      "[epoch 1] Test set: avg. loss: 3.484  (perplexity: 32.60)\n",
      "\n",
      "[epoch 2] Starting epoch 2\n",
      "Mon, 12 Dec 2016 21:10:50\n",
      "[epoch 2] Completed in 0:08:07\n",
      "[epoch 2] Train set: avg. loss: 3.256  (perplexity: 25.95)\n",
      "[epoch 2] Test set: avg. loss: 3.602  (perplexity: 36.69)\n",
      "\n",
      "[epoch 3] Starting epoch 3\n",
      "Mon, 12 Dec 2016 21:20:20\n",
      "[epoch 3] Completed in 0:08:00\n",
      "[epoch 3] Train set: avg. loss: 3.207  (perplexity: 24.70)\n",
      "[epoch 3] Test set: avg. loss: 3.539  (perplexity: 34.42)\n",
      "\n",
      "[epoch 4] Starting epoch 4\n",
      "Mon, 12 Dec 2016 21:29:29\n",
      "[epoch 4] Completed in 0:07:34\n",
      "[epoch 4] Train set: avg. loss: 3.089  (perplexity: 21.96)\n",
      "[epoch 4] Test set: avg. loss: 3.312  (perplexity: 27.44)\n",
      "\n",
      "[epoch 5] Starting epoch 5\n",
      "Mon, 12 Dec 2016 21:38:26\n",
      "[epoch 5] Completed in 0:07:28\n",
      "[epoch 5] Train set: avg. loss: 3.100  (perplexity: 22.19)\n",
      "[epoch 5] Test set: avg. loss: 3.317  (perplexity: 27.59)\n",
      "\n",
      "[epoch 6] Starting epoch 6\n",
      "Mon, 12 Dec 2016 21:47:53\n",
      "[epoch 6] Completed in 0:07:55\n",
      "[epoch 6] Train set: avg. loss: 3.293  (perplexity: 26.91)\n",
      "[epoch 6] Test set: avg. loss: 3.511  (perplexity: 33.48)\n",
      "\n",
      "[epoch 7] Starting epoch 7\n",
      "Mon, 12 Dec 2016 21:57:04\n",
      "[epoch 7] Completed in 0:07:42\n",
      "[epoch 7] Train set: avg. loss: 2.985  (perplexity: 19.79)\n",
      "[epoch 7] Test set: avg. loss: 3.332  (perplexity: 28.01)\n",
      "\n",
      "[epoch 8] Starting epoch 8\n",
      "Mon, 12 Dec 2016 22:04:54\n",
      "[epoch 8] Completed in 0:06:21\n",
      "[epoch 8] Train set: avg. loss: 3.097  (perplexity: 22.14)\n",
      "[epoch 8] Test set: avg. loss: 3.374  (perplexity: 29.21)\n",
      "\n",
      "[epoch 9] Starting epoch 9\n",
      "Mon, 12 Dec 2016 22:12:00\n",
      "[epoch 9] Completed in 0:05:47\n",
      "[epoch 9] Train set: avg. loss: 3.026  (perplexity: 20.61)\n",
      "[epoch 9] Test set: avg. loss: 3.339  (perplexity: 28.19)\n",
      "\n",
      "[epoch 10] Starting epoch 10\n",
      "Mon, 12 Dec 2016 22:19:05\n",
      "[epoch 10] Completed in 0:05:39\n",
      "[epoch 10] Train set: avg. loss: 3.284  (perplexity: 26.68)\n",
      "[epoch 10] Test set: avg. loss: 3.630  (perplexity: 37.70)\n",
      "\n",
      "[epoch 11] Starting epoch 11\n",
      "Mon, 12 Dec 2016 22:25:46\n",
      "[epoch 11] Completed in 0:05:22\n",
      "[epoch 11] Train set: avg. loss: 3.033  (perplexity: 20.76)\n",
      "[epoch 11] Test set: avg. loss: 3.331  (perplexity: 27.97)\n",
      "\n",
      "[epoch 12] Starting epoch 12\n",
      "Mon, 12 Dec 2016 22:33:23\n",
      "[epoch 12] Completed in 0:06:13\n",
      "[epoch 12] Train set: avg. loss: 3.104  (perplexity: 22.28)\n",
      "[epoch 12] Test set: avg. loss: 3.607  (perplexity: 36.84)\n",
      "\n",
      "[epoch 13] Starting epoch 13\n",
      "Mon, 12 Dec 2016 22:41:20\n",
      "[epoch 13] Completed in 0:06:30\n",
      "[epoch 13] Train set: avg. loss: 3.004  (perplexity: 20.17)\n",
      "[epoch 13] Test set: avg. loss: 3.543  (perplexity: 34.56)\n",
      "\n",
      "[epoch 14] Starting epoch 14\n",
      "Mon, 12 Dec 2016 22:49:25\n",
      "[epoch 14] Completed in 0:06:42\n",
      "[epoch 14] Train set: avg. loss: 2.993  (perplexity: 19.94)\n",
      "[epoch 14] Test set: avg. loss: 3.323  (perplexity: 27.75)\n",
      "\n",
      "[epoch 15] Starting epoch 15\n",
      "Mon, 12 Dec 2016 22:57:13\n",
      "[epoch 15] Completed in 0:06:26\n",
      "[epoch 15] Train set: avg. loss: 2.956  (perplexity: 19.21)\n",
      "[epoch 15] Test set: avg. loss: 3.371  (perplexity: 29.11)\n",
      "\n",
      "[epoch 16] Starting epoch 16\n",
      "Mon, 12 Dec 2016 23:04:46\n",
      "[epoch 16] Completed in 0:06:13\n",
      "[epoch 16] Train set: avg. loss: 2.939  (perplexity: 18.90)\n",
      "[epoch 16] Test set: avg. loss: 3.387  (perplexity: 29.58)\n",
      "\n",
      "[epoch 17] Starting epoch 17\n",
      "Mon, 12 Dec 2016 23:12:35\n",
      "[epoch 17] Completed in 0:06:26\n",
      "[epoch 17] Train set: avg. loss: 2.954  (perplexity: 19.19)\n",
      "[epoch 17] Test set: avg. loss: 3.554  (perplexity: 34.96)\n",
      "\n",
      "[epoch 18] Starting epoch 18\n",
      "Mon, 12 Dec 2016 23:20:12\n",
      "[epoch 18] Completed in 0:06:14\n",
      "[epoch 18] Train set: avg. loss: 2.918  (perplexity: 18.51)\n",
      "[epoch 18] Test set: avg. loss: 3.419  (perplexity: 30.54)\n",
      "\n",
      "[epoch 19] Starting epoch 19\n",
      "Mon, 12 Dec 2016 23:27:33\n",
      "[epoch 19] Completed in 0:05:58\n",
      "[epoch 19] Train set: avg. loss: 2.985  (perplexity: 19.78)\n",
      "[epoch 19] Test set: avg. loss: 3.402  (perplexity: 30.04)\n",
      "\n",
      "[epoch 20] Starting epoch 20\n",
      "Mon, 12 Dec 2016 23:34:59\n",
      "[epoch 20] Completed in 0:06:01\n",
      "[epoch 20] Train set: avg. loss: 2.969  (perplexity: 19.48)\n",
      "[epoch 20] Test set: avg. loss: 3.517  (perplexity: 33.67)\n",
      "\n",
      "[epoch 21] Starting epoch 21\n",
      "Mon, 12 Dec 2016 23:42:21\n",
      "[epoch 21] Completed in 0:05:57\n",
      "[epoch 21] Train set: avg. loss: 2.841  (perplexity: 17.14)\n",
      "[epoch 21] Test set: avg. loss: 3.367  (perplexity: 29.00)\n",
      "\n",
      "[epoch 22] Starting epoch 22\n",
      "Mon, 12 Dec 2016 23:50:04\n",
      "[epoch 22] Completed in 0:06:19\n",
      "[epoch 22] Train set: avg. loss: 2.808  (perplexity: 16.57)\n",
      "[epoch 22] Test set: avg. loss: 3.266  (perplexity: 26.21)\n",
      "\n",
      "[epoch 23] Starting epoch 23\n",
      "Mon, 12 Dec 2016 23:57:50\n",
      "[epoch 23] Completed in 0:06:19\n",
      "[epoch 23] Train set: avg. loss: 2.800  (perplexity: 16.44)\n",
      "[epoch 23] Test set: avg. loss: 3.296  (perplexity: 26.99)\n",
      "\n",
      "[epoch 24] Starting epoch 24\n",
      "Tue, 13 Dec 2016 00:05:34\n",
      "[epoch 24] Completed in 0:06:17\n",
      "[epoch 24] Train set: avg. loss: 2.781  (perplexity: 16.13)\n",
      "[epoch 24] Test set: avg. loss: 3.297  (perplexity: 27.04)\n",
      "\n",
      "[epoch 25] Starting epoch 25\n",
      "Tue, 13 Dec 2016 00:13:19\n",
      "[epoch 25] Completed in 0:06:17\n",
      "[epoch 25] Train set: avg. loss: 2.741  (perplexity: 15.50)\n",
      "[epoch 25] Test set: avg. loss: 3.264  (perplexity: 26.16)\n",
      "\n",
      "[epoch 26] Starting epoch 26\n",
      "Tue, 13 Dec 2016 00:21:09\n",
      "[epoch 26] Completed in 0:06:20\n",
      "[epoch 26] Train set: avg. loss: 2.821  (perplexity: 16.79)\n",
      "[epoch 26] Test set: avg. loss: 3.393  (perplexity: 29.75)\n",
      "\n",
      "[epoch 27] Starting epoch 27\n",
      "Tue, 13 Dec 2016 00:28:41\n",
      "[epoch 27] Completed in 0:06:06\n",
      "[epoch 27] Train set: avg. loss: 2.777  (perplexity: 16.07)\n",
      "[epoch 27] Test set: avg. loss: 3.322  (perplexity: 27.73)\n",
      "\n",
      "[epoch 28] Starting epoch 28\n",
      "Tue, 13 Dec 2016 00:36:14\n",
      "[epoch 28] Completed in 0:06:07\n",
      "[epoch 28] Train set: avg. loss: 2.759  (perplexity: 15.78)\n",
      "[epoch 28] Test set: avg. loss: 3.318  (perplexity: 27.60)\n",
      "\n",
      "[epoch 29] Starting epoch 29\n",
      "Tue, 13 Dec 2016 00:43:42\n",
      "[epoch 29] Completed in 0:06:02\n",
      "[epoch 29] Train set: avg. loss: 2.740  (perplexity: 15.49)\n",
      "[epoch 29] Test set: avg. loss: 3.327  (perplexity: 27.84)\n",
      "\n",
      "[epoch 30] Starting epoch 30\n",
      "Tue, 13 Dec 2016 00:51:12\n",
      "[epoch 30] Completed in 0:06:05\n",
      "[epoch 30] Train set: avg. loss: 2.716  (perplexity: 15.12)\n",
      "[epoch 30] Test set: avg. loss: 3.324  (perplexity: 27.77)\n",
      "\n",
      "[epoch 31] Starting epoch 31\n",
      "Tue, 13 Dec 2016 00:58:47\n",
      "[epoch 31] Completed in 0:06:10\n",
      "[epoch 31] Train set: avg. loss: 2.723  (perplexity: 15.22)\n",
      "[epoch 31] Test set: avg. loss: 3.282  (perplexity: 26.62)\n",
      "\n",
      "[epoch 32] Starting epoch 32\n",
      "Tue, 13 Dec 2016 01:06:06\n",
      "[epoch 32] Completed in 0:05:54\n",
      "[epoch 32] Train set: avg. loss: 2.722  (perplexity: 15.21)\n",
      "[epoch 32] Test set: avg. loss: 3.326  (perplexity: 27.81)\n",
      "\n",
      "[epoch 33] Starting epoch 33\n",
      "Tue, 13 Dec 2016 01:13:13\n",
      "[epoch 33] Completed in 0:05:43\n",
      "[epoch 33] Train set: avg. loss: 2.799  (perplexity: 16.43)\n",
      "[epoch 33] Test set: avg. loss: 3.346  (perplexity: 28.40)\n",
      "\n",
      "[epoch 34] Starting epoch 34\n",
      "Tue, 13 Dec 2016 01:20:31\n",
      "[epoch 34] Completed in 0:05:52\n",
      "[epoch 34] Train set: avg. loss: 2.734  (perplexity: 15.39)\n",
      "[epoch 34] Test set: avg. loss: 3.259  (perplexity: 26.03)\n",
      "\n",
      "[epoch 35] Starting epoch 35\n",
      "Tue, 13 Dec 2016 01:28:02\n",
      "[epoch 35] Completed in 0:06:05\n",
      "[epoch 35] Train set: avg. loss: 2.752  (perplexity: 15.68)\n",
      "[epoch 35] Test set: avg. loss: 3.283  (perplexity: 26.66)\n",
      "\n",
      "[epoch 36] Starting epoch 36\n",
      "Tue, 13 Dec 2016 01:35:02\n",
      "[epoch 36] Completed in 0:05:31\n",
      "[epoch 36] Train set: avg. loss: 2.734  (perplexity: 15.39)\n",
      "[epoch 36] Test set: avg. loss: 3.270  (perplexity: 26.31)\n",
      "\n",
      "[epoch 37] Starting epoch 37\n",
      "Tue, 13 Dec 2016 01:41:59\n",
      "[epoch 37] Completed in 0:05:33\n",
      "[epoch 37] Train set: avg. loss: 2.702  (perplexity: 14.91)\n",
      "[epoch 37] Test set: avg. loss: 3.249  (perplexity: 25.77)\n",
      "\n",
      "[epoch 38] Starting epoch 38\n",
      "Tue, 13 Dec 2016 01:48:49\n",
      "[epoch 38] Completed in 0:05:28\n",
      "[epoch 38] Train set: avg. loss: 2.738  (perplexity: 15.46)\n",
      "[epoch 38] Test set: avg. loss: 3.321  (perplexity: 27.68)\n",
      "\n",
      "[epoch 39] Starting epoch 39\n",
      "Tue, 13 Dec 2016 01:55:58\n",
      "[epoch 39] Completed in 0:05:44\n",
      "[epoch 39] Train set: avg. loss: 2.694  (perplexity: 14.79)\n",
      "[epoch 39] Test set: avg. loss: 3.306  (perplexity: 27.27)\n",
      "\n",
      "[epoch 40] Starting epoch 40\n",
      "Tue, 13 Dec 2016 02:03:08\n",
      "[epoch 40] Completed in 0:05:45\n",
      "[epoch 40] Train set: avg. loss: 2.669  (perplexity: 14.42)\n",
      "[epoch 40] Test set: avg. loss: 3.318  (perplexity: 27.59)\n",
      "\n",
      "[epoch 41] Starting epoch 41\n",
      "Tue, 13 Dec 2016 02:09:46\n",
      "[epoch 41] Completed in 0:05:14\n",
      "[epoch 41] Train set: avg. loss: 2.700  (perplexity: 14.88)\n",
      "[epoch 41] Test set: avg. loss: 3.382  (perplexity: 29.42)\n",
      "\n",
      "[epoch 42] Starting epoch 42\n",
      "Tue, 13 Dec 2016 02:16:41\n",
      "[epoch 42] Completed in 0:05:31\n",
      "[epoch 42] Train set: avg. loss: 2.677  (perplexity: 14.55)\n",
      "[epoch 42] Test set: avg. loss: 3.366  (perplexity: 28.96)\n",
      "\n",
      "[epoch 43] Starting epoch 43\n",
      "Tue, 13 Dec 2016 02:23:44\n",
      "[epoch 43] Completed in 0:05:39\n",
      "[epoch 43] Train set: avg. loss: 2.681  (perplexity: 14.60)\n",
      "[epoch 43] Test set: avg. loss: 3.381  (perplexity: 29.40)\n",
      "\n",
      "[epoch 44] Starting epoch 44\n",
      "Tue, 13 Dec 2016 02:30:58\n",
      "[epoch 44] Completed in 0:05:49\n",
      "[epoch 44] Train set: avg. loss: 2.735  (perplexity: 15.41)\n",
      "[epoch 44] Test set: avg. loss: 3.328  (perplexity: 27.88)\n",
      "\n",
      "[epoch 45] Starting epoch 45\n",
      "Tue, 13 Dec 2016 02:38:30\n",
      "[epoch 45] Completed in 0:06:07\n",
      "[epoch 45] Train set: avg. loss: 2.676  (perplexity: 14.52)\n",
      "[epoch 45] Test set: avg. loss: 3.410  (perplexity: 30.26)\n",
      "\n",
      "[epoch 46] Starting epoch 46\n",
      "Tue, 13 Dec 2016 02:46:08\n",
      "[epoch 46] Completed in 0:06:11\n",
      "[epoch 46] Train set: avg. loss: 2.702  (perplexity: 14.92)\n",
      "[epoch 46] Test set: avg. loss: 3.376  (perplexity: 29.26)\n",
      "\n",
      "[epoch 47] Starting epoch 47\n",
      "Tue, 13 Dec 2016 02:53:37\n",
      "[epoch 47] Completed in 0:06:01\n",
      "[epoch 47] Train set: avg. loss: 2.702  (perplexity: 14.91)\n",
      "[epoch 47] Test set: avg. loss: 3.466  (perplexity: 32.02)\n",
      "\n",
      "[epoch 48] Starting epoch 48\n",
      "Tue, 13 Dec 2016 03:00:48\n",
      "[epoch 48] Completed in 0:05:44\n",
      "[epoch 48] Train set: avg. loss: 2.656  (perplexity: 14.23)\n",
      "[epoch 48] Test set: avg. loss: 3.319  (perplexity: 27.64)\n",
      "\n",
      "[epoch 49] Starting epoch 49\n",
      "Tue, 13 Dec 2016 03:08:16\n",
      "[epoch 49] Completed in 0:06:02\n",
      "[epoch 49] Train set: avg. loss: 2.671  (perplexity: 14.45)\n",
      "[epoch 49] Test set: avg. loss: 3.368  (perplexity: 29.03)\n",
      "\n",
      "[epoch 50] Starting epoch 50\n",
      "Tue, 13 Dec 2016 03:15:46\n",
      "[epoch 50] Completed in 0:06:04\n",
      "[epoch 50] Train set: avg. loss: 2.661  (perplexity: 14.31)\n",
      "[epoch 50] Test set: avg. loss: 3.353  (perplexity: 28.60)\n",
      "\n",
      "Tue, 13 Dec 2016 03:17:14\n"
     ]
    }
   ],
   "source": [
    "# Will print status every this many seconds\n",
    "reload(utils)\n",
    "print_interval = 5\n",
    "\n",
    "# Clear old log directory\n",
    "shutil.rmtree(\"tf_summaries\", ignore_errors=True)\n",
    "\n",
    "with tf.Graph().as_default(), tf.Session() as session:\n",
    "  # Seed RNG for repeatability\n",
    "  os.environ['TZ'] = 'US/Pacific'\n",
    "  print time.strftime(\"%a, %d %b %Y %H:%M:%S\", time.localtime())\n",
    "  tf.set_random_seed(42)\n",
    "  \n",
    "  with tf.variable_scope(\"model\", reuse=None):\n",
    "    sm = rnnsm.RNNSM(**model_params)\n",
    "    sm.BuildCoreGraph()\n",
    "    sm.BuildTrainGraph()\n",
    "  \n",
    "  session.run(tf.initialize_all_variables())\n",
    "  saver = tf.train.Saver()\n",
    "  \n",
    "  for epoch in xrange(1,num_epochs+1):\n",
    "    t0_epoch = time.time()\n",
    "    bi = utils.batch_generator(train_ids, train_sids, batch_size, max_time)\n",
    "    print \"[epoch %d] Starting epoch %d\" % (epoch, epoch)\n",
    "    #### YOUR CODE HERE ####\n",
    "\n",
    "    run_epoch(sm, session, bi, train=True, keep_prob=keep_prob, learning_rate=learning_rate)\n",
    "    print time.strftime(\"%a, %d %b %Y %H:%M:%S\", time.localtime())\n",
    "\n",
    "    #### END(YOUR CODE) ####\n",
    "    print \"[epoch %d] Completed in %s\" % (epoch, utils.pretty_timedelta(since=t0_epoch))\n",
    "    \n",
    "    ##\n",
    "    # score_dataset will run a forward pass over the entire dataset\n",
    "    # and report perplexity scores. This can be slow (around 1/2 to \n",
    "    # 1/4 as long as a full epoch), so you may want to comment it out\n",
    "    # to speed up training on a slow machine. Be sure to run it at the \n",
    "    # end to evaluate your score.\n",
    "    print (\"[epoch %d]\" % epoch),\n",
    "    score_dataset(sm, session, train_ids, train_sids, name=\"Train set\")\n",
    "    print (\"[epoch %d]\" % epoch),\n",
    "    score_dataset(sm, session, test_ids, test_sids, name=\"Test set\")\n",
    "    print \"\"\n",
    "    \n",
    "    # Save a checkpoint\n",
    "    saver.save(session, './tf_saved/rnnsm', global_step=epoch)\n",
    "    \n",
    "  # Save final model\n",
    "  saver.save(session, trained_filename)\n",
    "  \n",
    "  print time.strftime(\"%a, %d %b %Y %H:%M:%S\", time.localtime())"
   ]
  },
  {
   "cell_type": "code",
   "execution_count": 77,
   "metadata": {
    "collapsed": false
   },
   "outputs": [],
   "source": [
    "def sample_step(sm, session, input_w, initial_h):\n",
    "  \"\"\"Run a single RNN step and return sampled predictions.\n",
    "  \n",
    "  Args:\n",
    "    sm : rnnsm.RNNSM\n",
    "    session: tf.Session\n",
    "    input_w : [batch_size] list of indices\n",
    "    initial_h : [batch_size, hidden_dims]\n",
    "  \n",
    "  Returns:\n",
    "    final_h : final hidden state, compatible with initial_h\n",
    "    samples : [batch_size, 1] vector of indices\n",
    "  \"\"\"\n",
    "  #### YOUR CODE HERE ####\n",
    "  # Reshape input to column vector\n",
    "  input_w = np.array(input_w, dtype=np.int32).reshape([-1,1])\n",
    "  \n",
    "  # Run sample ops\n",
    "  final_h, samples = session.run([sm.final_h_, sm.pred_samples_], \n",
    "        feed_dict={sm.input_w_: input_w, sm.initial_h_: initial_h, sm.dropout_keep_prob_: 1.0, sm.learning_rate_:0.1})\n",
    "  \n",
    "  #### END(YOUR CODE) ####\n",
    "  return final_h, samples[:,-1,:]"
   ]
  },
  {
   "cell_type": "code",
   "execution_count": 81,
   "metadata": {
    "collapsed": false
   },
   "outputs": [
    {
     "name": "stdout",
     "output_type": "stream",
     "text": [
      "<s> an was new new new company from new DGDGDGDG '' was will from at new will by from from new \n",
      "<s> said from ( be new will from from from '' '' from new at from new as from was '' \n",
      "<s> company from by was which new not new ) will new '' from will '' in from will was from \n",
      "<s> new had be ( business from $ company ( was from was was was from was be which new said \n",
      "<s> DGDGDGDG will '' new which from which from was ( new which new '' will which new which new will \n",
      "<s> '' , which be the had had ( had from said new '' '' said had '' was '' will \n",
      "<s> ( '' '' as new an from in '' from ( has ( '' new from '' an '' from \n",
      "<s> ( which '' as from said new was said by more new from '' has ( new from new by \n",
      "<s> which was from new had from an was was from which from DGDGDGDG will was will from which which '' \n",
      "<s> new in '' new which new as was mr. new '' by '' company new by new '' '' in \n"
     ]
    }
   ],
   "source": [
    "# Same as above, but as a batch\n",
    "reload(rnnsm)\n",
    "max_steps = 20\n",
    "num_samples = 10\n",
    "random_seed = 42\n",
    "\n",
    "with tf.Graph().as_default(), tf.Session() as session:\n",
    "  # Seed RNG for repeatability\n",
    "  tf.set_random_seed(random_seed)\n",
    "\n",
    "  with tf.variable_scope(\"model\", reuse=None):\n",
    "    sm = rnnsm.RNNSM(**model_params)\n",
    "    sm.BuildCoreGraph()\n",
    "    sm.BuildSamplerGraph()\n",
    "\n",
    "  # Load the trained model\n",
    "  saver = tf.train.Saver()\n",
    "  saver.restore(session, './' + trained_filename)\n",
    "\n",
    "  # Make initial state for a batch with batch_size = num_samples\n",
    "  w = np.repeat([[vocab.START_ID]], num_samples, axis=0)\n",
    "  h = session.run(sm.initial_h_, {sm.input_w_: w})\n",
    "  # We'll take one step for each sequence on each iteration \n",
    "  for i in xrange(max_steps):\n",
    "    h, y = sample_step(sm, session, w[:,-1:], h)\n",
    "    w = np.hstack((w,y))\n",
    "\n",
    "  # Print generated sentences\n",
    "  for row in w:\n",
    "    for i, word_id in enumerate(row):\n",
    "      print vocab.id_to_word[word_id],\n",
    "      if (i != 0) and (word_id == vocab.START_ID):\n",
    "        break\n",
    "    print \"\""
   ]
  },
  {
   "cell_type": "code",
   "execution_count": 82,
   "metadata": {
    "collapsed": true
   },
   "outputs": [],
   "source": [
    "def score_seq(sm, session, seq, vocab):\n",
    "  \"\"\"Score a sequence of words. Returns total log-probability.\"\"\"\n",
    "  padded_ids = vocab.words_to_ids(utils.canonicalize_words([\"<s>\"] + seq, \n",
    "                                                           wordset=vocab.word_to_id))\n",
    "  w = np.reshape(padded_ids[:-1], [1,-1])\n",
    "  y = np.reshape(padded_ids[1:],  [1,-1])\n",
    "    \n",
    "  h = session.run(sm.initial_h_, {sm.input_w_: w})\n",
    "  feed_dict = {sm.input_w_:w,\n",
    "               sm.target_y_:y,\n",
    "               sm.initial_h_:h,\n",
    "               sm.dropout_keep_prob_: 1.0}\n",
    "  # Return log(P(seq)) = -1*loss\n",
    "  return -1*session.run(sm.loss_, feed_dict)\n",
    "\n",
    "def load_and_score(inputs, sort=False):\n",
    "  \"\"\"Load the trained model and score the given words.\"\"\"\n",
    "  with tf.Graph().as_default(), tf.Session() as session:  \n",
    "    with tf.variable_scope(\"model\", reuse=None):\n",
    "      lm = rnnsm.RNNSM(**model_params)\n",
    "      lm.BuildCoreGraph()\n",
    "        \n",
    "    # Load the trained model\n",
    "    saver = tf.train.Saver()\n",
    "    saver.restore(session, './'+trained_filename)\n",
    "  \n",
    "    if isinstance(inputs[0], str) or isinstance(inputs[0], unicode):\n",
    "      inputs = [inputs]\n",
    "\n",
    "    # Actually run scoring\n",
    "    results = []\n",
    "    for words in inputs:\n",
    "      score = score_seq(lm, session, words, vocab)\n",
    "      results.append((score, words))\n",
    "    \n",
    "    # Sort if requested\n",
    "    if sort: results = sorted(results, reverse=True)\n",
    "    \n",
    "    # Print results\n",
    "    for score, words in results:\n",
    "      print \"\\\"%s\\\" : %.05f\" % (\" \".join(words), score)"
   ]
  },
  {
   "cell_type": "code",
   "execution_count": 83,
   "metadata": {
    "collapsed": false
   },
   "outputs": [
    {
     "ename": "InvalidArgumentError",
     "evalue": "Received a label value of 2665 which is outside the valid range of [0, 63).  Label values: 633 2665 10 67\n\t [[Node: model/loss/loss = SparseSoftmaxCrossEntropyWithLogits[T=DT_FLOAT, Tlabels=DT_INT32, _device=\"/job:localhost/replica:0/task:0/cpu:0\"](model/loss/Reshape, model/loss/Reshape_1)]]\n\nCaused by op u'model/loss/loss', defined at:\n  File \"/usr/lib/python2.7/runpy.py\", line 162, in _run_module_as_main\n    \"__main__\", fname, loader, pkg_name)\n  File \"/usr/lib/python2.7/runpy.py\", line 72, in _run_code\n    exec code in run_globals\n  File \"/usr/local/lib/python2.7/dist-packages/ipykernel/__main__.py\", line 3, in <module>\n    app.launch_new_instance()\n  File \"/usr/local/lib/python2.7/dist-packages/traitlets/config/application.py\", line 589, in launch_instance\n    app.start()\n  File \"/usr/local/lib/python2.7/dist-packages/ipykernel/kernelapp.py\", line 405, in start\n    ioloop.IOLoop.instance().start()\n  File \"/usr/local/lib/python2.7/dist-packages/zmq/eventloop/ioloop.py\", line 162, in start\n    super(ZMQIOLoop, self).start()\n  File \"/usr/local/lib/python2.7/dist-packages/tornado/ioloop.py\", line 883, in start\n    handler_func(fd_obj, events)\n  File \"/usr/local/lib/python2.7/dist-packages/tornado/stack_context.py\", line 275, in null_wrapper\n    return fn(*args, **kwargs)\n  File \"/usr/local/lib/python2.7/dist-packages/zmq/eventloop/zmqstream.py\", line 440, in _handle_events\n    self._handle_recv()\n  File \"/usr/local/lib/python2.7/dist-packages/zmq/eventloop/zmqstream.py\", line 472, in _handle_recv\n    self._run_callback(callback, msg)\n  File \"/usr/local/lib/python2.7/dist-packages/zmq/eventloop/zmqstream.py\", line 414, in _run_callback\n    callback(*args, **kwargs)\n  File \"/usr/local/lib/python2.7/dist-packages/tornado/stack_context.py\", line 275, in null_wrapper\n    return fn(*args, **kwargs)\n  File \"/usr/local/lib/python2.7/dist-packages/ipykernel/kernelbase.py\", line 260, in dispatcher\n    return self.dispatch_shell(stream, msg)\n  File \"/usr/local/lib/python2.7/dist-packages/ipykernel/kernelbase.py\", line 212, in dispatch_shell\n    handler(stream, idents, msg)\n  File \"/usr/local/lib/python2.7/dist-packages/ipykernel/kernelbase.py\", line 370, in execute_request\n    user_expressions, allow_stdin)\n  File \"/usr/local/lib/python2.7/dist-packages/ipykernel/ipkernel.py\", line 175, in do_execute\n    shell.run_cell(code, store_history=store_history, silent=silent)\n  File \"/usr/local/lib/python2.7/dist-packages/IPython/core/interactiveshell.py\", line 2723, in run_cell\n    interactivity=interactivity, compiler=compiler, result=result)\n  File \"/usr/local/lib/python2.7/dist-packages/IPython/core/interactiveshell.py\", line 2831, in run_ast_nodes\n    if self.run_code(code, result):\n  File \"/usr/local/lib/python2.7/dist-packages/IPython/core/interactiveshell.py\", line 2885, in run_code\n    exec(code_obj, self.user_global_ns, self.user_ns)\n  File \"<ipython-input-83-369449b7415d>\", line 3, in <module>\n    load_and_score([s.split() for s in sents])\n  File \"<ipython-input-82-b36be2bb82a5>\", line 20, in load_and_score\n    lm.BuildCoreGraph()\n  File \"rnnsm.py\", line 112, in BuildCoreGraph\n    self.loss_ = tf.reduce_sum(tf.nn.sparse_softmax_cross_entropy_with_logits(self.logits_, self.target_y_, name = \"loss\"))\n  File \"/usr/local/lib/python2.7/dist-packages/tensorflow/python/ops/nn_ops.py\", line 1551, in sparse_softmax_cross_entropy_with_logits\n    precise_logits, labels, name=name)\n  File \"/usr/local/lib/python2.7/dist-packages/tensorflow/python/ops/gen_nn_ops.py\", line 2378, in _sparse_softmax_cross_entropy_with_logits\n    features=features, labels=labels, name=name)\n  File \"/usr/local/lib/python2.7/dist-packages/tensorflow/python/framework/op_def_library.py\", line 759, in apply_op\n    op_def=op_def)\n  File \"/usr/local/lib/python2.7/dist-packages/tensorflow/python/framework/ops.py\", line 2240, in create_op\n    original_op=self._default_original_op, op_def=op_def)\n  File \"/usr/local/lib/python2.7/dist-packages/tensorflow/python/framework/ops.py\", line 1128, in __init__\n    self._traceback = _extract_stack()\n\nInvalidArgumentError (see above for traceback): Received a label value of 2665 which is outside the valid range of [0, 63).  Label values: 633 2665 10 67\n\t [[Node: model/loss/loss = SparseSoftmaxCrossEntropyWithLogits[T=DT_FLOAT, Tlabels=DT_INT32, _device=\"/job:localhost/replica:0/task:0/cpu:0\"](model/loss/Reshape, model/loss/Reshape_1)]]\n",
     "output_type": "error",
     "traceback": [
      "\u001b[1;31m---------------------------------------------------------------------------\u001b[0m",
      "\u001b[1;31mInvalidArgumentError\u001b[0m                      Traceback (most recent call last)",
      "\u001b[1;32m<ipython-input-83-369449b7415d>\u001b[0m in \u001b[0;36m<module>\u001b[1;34m()\u001b[0m\n\u001b[0;32m      1\u001b[0m sents = [\"once upon a time\",\n\u001b[0;32m      2\u001b[0m          \"the quick brown fox jumps over the lazy dog\"]\n\u001b[1;32m----> 3\u001b[1;33m \u001b[0mload_and_score\u001b[0m\u001b[1;33m(\u001b[0m\u001b[1;33m[\u001b[0m\u001b[0ms\u001b[0m\u001b[1;33m.\u001b[0m\u001b[0msplit\u001b[0m\u001b[1;33m(\u001b[0m\u001b[1;33m)\u001b[0m \u001b[1;32mfor\u001b[0m \u001b[0ms\u001b[0m \u001b[1;32min\u001b[0m \u001b[0msents\u001b[0m\u001b[1;33m]\u001b[0m\u001b[1;33m)\u001b[0m\u001b[1;33m\u001b[0m\u001b[0m\n\u001b[0m",
      "\u001b[1;32m<ipython-input-82-b36be2bb82a5>\u001b[0m in \u001b[0;36mload_and_score\u001b[1;34m(inputs, sort)\u001b[0m\n\u001b[0;32m     30\u001b[0m     \u001b[0mresults\u001b[0m \u001b[1;33m=\u001b[0m \u001b[1;33m[\u001b[0m\u001b[1;33m]\u001b[0m\u001b[1;33m\u001b[0m\u001b[0m\n\u001b[0;32m     31\u001b[0m     \u001b[1;32mfor\u001b[0m \u001b[0mwords\u001b[0m \u001b[1;32min\u001b[0m \u001b[0minputs\u001b[0m\u001b[1;33m:\u001b[0m\u001b[1;33m\u001b[0m\u001b[0m\n\u001b[1;32m---> 32\u001b[1;33m       \u001b[0mscore\u001b[0m \u001b[1;33m=\u001b[0m \u001b[0mscore_seq\u001b[0m\u001b[1;33m(\u001b[0m\u001b[0mlm\u001b[0m\u001b[1;33m,\u001b[0m \u001b[0msession\u001b[0m\u001b[1;33m,\u001b[0m \u001b[0mwords\u001b[0m\u001b[1;33m,\u001b[0m \u001b[0mvocab\u001b[0m\u001b[1;33m)\u001b[0m\u001b[1;33m\u001b[0m\u001b[0m\n\u001b[0m\u001b[0;32m     33\u001b[0m       \u001b[0mresults\u001b[0m\u001b[1;33m.\u001b[0m\u001b[0mappend\u001b[0m\u001b[1;33m(\u001b[0m\u001b[1;33m(\u001b[0m\u001b[0mscore\u001b[0m\u001b[1;33m,\u001b[0m \u001b[0mwords\u001b[0m\u001b[1;33m)\u001b[0m\u001b[1;33m)\u001b[0m\u001b[1;33m\u001b[0m\u001b[0m\n\u001b[0;32m     34\u001b[0m \u001b[1;33m\u001b[0m\u001b[0m\n",
      "\u001b[1;32m<ipython-input-82-b36be2bb82a5>\u001b[0m in \u001b[0;36mscore_seq\u001b[1;34m(sm, session, seq, vocab)\u001b[0m\n\u001b[0;32m     11\u001b[0m                sm.dropout_keep_prob_: 1.0}\n\u001b[0;32m     12\u001b[0m   \u001b[1;31m# Return log(P(seq)) = -1*loss\u001b[0m\u001b[1;33m\u001b[0m\u001b[1;33m\u001b[0m\u001b[0m\n\u001b[1;32m---> 13\u001b[1;33m   \u001b[1;32mreturn\u001b[0m \u001b[1;33m-\u001b[0m\u001b[1;36m1\u001b[0m\u001b[1;33m*\u001b[0m\u001b[0msession\u001b[0m\u001b[1;33m.\u001b[0m\u001b[0mrun\u001b[0m\u001b[1;33m(\u001b[0m\u001b[0msm\u001b[0m\u001b[1;33m.\u001b[0m\u001b[0mloss_\u001b[0m\u001b[1;33m,\u001b[0m \u001b[0mfeed_dict\u001b[0m\u001b[1;33m)\u001b[0m\u001b[1;33m\u001b[0m\u001b[0m\n\u001b[0m\u001b[0;32m     14\u001b[0m \u001b[1;33m\u001b[0m\u001b[0m\n\u001b[0;32m     15\u001b[0m \u001b[1;32mdef\u001b[0m \u001b[0mload_and_score\u001b[0m\u001b[1;33m(\u001b[0m\u001b[0minputs\u001b[0m\u001b[1;33m,\u001b[0m \u001b[0msort\u001b[0m\u001b[1;33m=\u001b[0m\u001b[0mFalse\u001b[0m\u001b[1;33m)\u001b[0m\u001b[1;33m:\u001b[0m\u001b[1;33m\u001b[0m\u001b[0m\n",
      "\u001b[1;32m/usr/local/lib/python2.7/dist-packages/tensorflow/python/client/session.pyc\u001b[0m in \u001b[0;36mrun\u001b[1;34m(self, fetches, feed_dict, options, run_metadata)\u001b[0m\n\u001b[0;32m    764\u001b[0m     \u001b[1;32mtry\u001b[0m\u001b[1;33m:\u001b[0m\u001b[1;33m\u001b[0m\u001b[0m\n\u001b[0;32m    765\u001b[0m       result = self._run(None, fetches, feed_dict, options_ptr,\n\u001b[1;32m--> 766\u001b[1;33m                          run_metadata_ptr)\n\u001b[0m\u001b[0;32m    767\u001b[0m       \u001b[1;32mif\u001b[0m \u001b[0mrun_metadata\u001b[0m\u001b[1;33m:\u001b[0m\u001b[1;33m\u001b[0m\u001b[0m\n\u001b[0;32m    768\u001b[0m         \u001b[0mproto_data\u001b[0m \u001b[1;33m=\u001b[0m \u001b[0mtf_session\u001b[0m\u001b[1;33m.\u001b[0m\u001b[0mTF_GetBuffer\u001b[0m\u001b[1;33m(\u001b[0m\u001b[0mrun_metadata_ptr\u001b[0m\u001b[1;33m)\u001b[0m\u001b[1;33m\u001b[0m\u001b[0m\n",
      "\u001b[1;32m/usr/local/lib/python2.7/dist-packages/tensorflow/python/client/session.pyc\u001b[0m in \u001b[0;36m_run\u001b[1;34m(self, handle, fetches, feed_dict, options, run_metadata)\u001b[0m\n\u001b[0;32m    962\u001b[0m     \u001b[1;32mif\u001b[0m \u001b[0mfinal_fetches\u001b[0m \u001b[1;32mor\u001b[0m \u001b[0mfinal_targets\u001b[0m\u001b[1;33m:\u001b[0m\u001b[1;33m\u001b[0m\u001b[0m\n\u001b[0;32m    963\u001b[0m       results = self._do_run(handle, final_targets, final_fetches,\n\u001b[1;32m--> 964\u001b[1;33m                              feed_dict_string, options, run_metadata)\n\u001b[0m\u001b[0;32m    965\u001b[0m     \u001b[1;32melse\u001b[0m\u001b[1;33m:\u001b[0m\u001b[1;33m\u001b[0m\u001b[0m\n\u001b[0;32m    966\u001b[0m       \u001b[0mresults\u001b[0m \u001b[1;33m=\u001b[0m \u001b[1;33m[\u001b[0m\u001b[1;33m]\u001b[0m\u001b[1;33m\u001b[0m\u001b[0m\n",
      "\u001b[1;32m/usr/local/lib/python2.7/dist-packages/tensorflow/python/client/session.pyc\u001b[0m in \u001b[0;36m_do_run\u001b[1;34m(self, handle, target_list, fetch_list, feed_dict, options, run_metadata)\u001b[0m\n\u001b[0;32m   1012\u001b[0m     \u001b[1;32mif\u001b[0m \u001b[0mhandle\u001b[0m \u001b[1;32mis\u001b[0m \u001b[0mNone\u001b[0m\u001b[1;33m:\u001b[0m\u001b[1;33m\u001b[0m\u001b[0m\n\u001b[0;32m   1013\u001b[0m       return self._do_call(_run_fn, self._session, feed_dict, fetch_list,\n\u001b[1;32m-> 1014\u001b[1;33m                            target_list, options, run_metadata)\n\u001b[0m\u001b[0;32m   1015\u001b[0m     \u001b[1;32melse\u001b[0m\u001b[1;33m:\u001b[0m\u001b[1;33m\u001b[0m\u001b[0m\n\u001b[0;32m   1016\u001b[0m       return self._do_call(_prun_fn, self._session, handle, feed_dict,\n",
      "\u001b[1;32m/usr/local/lib/python2.7/dist-packages/tensorflow/python/client/session.pyc\u001b[0m in \u001b[0;36m_do_call\u001b[1;34m(self, fn, *args)\u001b[0m\n\u001b[0;32m   1032\u001b[0m         \u001b[1;32mexcept\u001b[0m \u001b[0mKeyError\u001b[0m\u001b[1;33m:\u001b[0m\u001b[1;33m\u001b[0m\u001b[0m\n\u001b[0;32m   1033\u001b[0m           \u001b[1;32mpass\u001b[0m\u001b[1;33m\u001b[0m\u001b[0m\n\u001b[1;32m-> 1034\u001b[1;33m       \u001b[1;32mraise\u001b[0m \u001b[0mtype\u001b[0m\u001b[1;33m(\u001b[0m\u001b[0me\u001b[0m\u001b[1;33m)\u001b[0m\u001b[1;33m(\u001b[0m\u001b[0mnode_def\u001b[0m\u001b[1;33m,\u001b[0m \u001b[0mop\u001b[0m\u001b[1;33m,\u001b[0m \u001b[0mmessage\u001b[0m\u001b[1;33m)\u001b[0m\u001b[1;33m\u001b[0m\u001b[0m\n\u001b[0m\u001b[0;32m   1035\u001b[0m \u001b[1;33m\u001b[0m\u001b[0m\n\u001b[0;32m   1036\u001b[0m   \u001b[1;32mdef\u001b[0m \u001b[0m_extend_graph\u001b[0m\u001b[1;33m(\u001b[0m\u001b[0mself\u001b[0m\u001b[1;33m)\u001b[0m\u001b[1;33m:\u001b[0m\u001b[1;33m\u001b[0m\u001b[0m\n",
      "\u001b[1;31mInvalidArgumentError\u001b[0m: Received a label value of 2665 which is outside the valid range of [0, 63).  Label values: 633 2665 10 67\n\t [[Node: model/loss/loss = SparseSoftmaxCrossEntropyWithLogits[T=DT_FLOAT, Tlabels=DT_INT32, _device=\"/job:localhost/replica:0/task:0/cpu:0\"](model/loss/Reshape, model/loss/Reshape_1)]]\n\nCaused by op u'model/loss/loss', defined at:\n  File \"/usr/lib/python2.7/runpy.py\", line 162, in _run_module_as_main\n    \"__main__\", fname, loader, pkg_name)\n  File \"/usr/lib/python2.7/runpy.py\", line 72, in _run_code\n    exec code in run_globals\n  File \"/usr/local/lib/python2.7/dist-packages/ipykernel/__main__.py\", line 3, in <module>\n    app.launch_new_instance()\n  File \"/usr/local/lib/python2.7/dist-packages/traitlets/config/application.py\", line 589, in launch_instance\n    app.start()\n  File \"/usr/local/lib/python2.7/dist-packages/ipykernel/kernelapp.py\", line 405, in start\n    ioloop.IOLoop.instance().start()\n  File \"/usr/local/lib/python2.7/dist-packages/zmq/eventloop/ioloop.py\", line 162, in start\n    super(ZMQIOLoop, self).start()\n  File \"/usr/local/lib/python2.7/dist-packages/tornado/ioloop.py\", line 883, in start\n    handler_func(fd_obj, events)\n  File \"/usr/local/lib/python2.7/dist-packages/tornado/stack_context.py\", line 275, in null_wrapper\n    return fn(*args, **kwargs)\n  File \"/usr/local/lib/python2.7/dist-packages/zmq/eventloop/zmqstream.py\", line 440, in _handle_events\n    self._handle_recv()\n  File \"/usr/local/lib/python2.7/dist-packages/zmq/eventloop/zmqstream.py\", line 472, in _handle_recv\n    self._run_callback(callback, msg)\n  File \"/usr/local/lib/python2.7/dist-packages/zmq/eventloop/zmqstream.py\", line 414, in _run_callback\n    callback(*args, **kwargs)\n  File \"/usr/local/lib/python2.7/dist-packages/tornado/stack_context.py\", line 275, in null_wrapper\n    return fn(*args, **kwargs)\n  File \"/usr/local/lib/python2.7/dist-packages/ipykernel/kernelbase.py\", line 260, in dispatcher\n    return self.dispatch_shell(stream, msg)\n  File \"/usr/local/lib/python2.7/dist-packages/ipykernel/kernelbase.py\", line 212, in dispatch_shell\n    handler(stream, idents, msg)\n  File \"/usr/local/lib/python2.7/dist-packages/ipykernel/kernelbase.py\", line 370, in execute_request\n    user_expressions, allow_stdin)\n  File \"/usr/local/lib/python2.7/dist-packages/ipykernel/ipkernel.py\", line 175, in do_execute\n    shell.run_cell(code, store_history=store_history, silent=silent)\n  File \"/usr/local/lib/python2.7/dist-packages/IPython/core/interactiveshell.py\", line 2723, in run_cell\n    interactivity=interactivity, compiler=compiler, result=result)\n  File \"/usr/local/lib/python2.7/dist-packages/IPython/core/interactiveshell.py\", line 2831, in run_ast_nodes\n    if self.run_code(code, result):\n  File \"/usr/local/lib/python2.7/dist-packages/IPython/core/interactiveshell.py\", line 2885, in run_code\n    exec(code_obj, self.user_global_ns, self.user_ns)\n  File \"<ipython-input-83-369449b7415d>\", line 3, in <module>\n    load_and_score([s.split() for s in sents])\n  File \"<ipython-input-82-b36be2bb82a5>\", line 20, in load_and_score\n    lm.BuildCoreGraph()\n  File \"rnnsm.py\", line 112, in BuildCoreGraph\n    self.loss_ = tf.reduce_sum(tf.nn.sparse_softmax_cross_entropy_with_logits(self.logits_, self.target_y_, name = \"loss\"))\n  File \"/usr/local/lib/python2.7/dist-packages/tensorflow/python/ops/nn_ops.py\", line 1551, in sparse_softmax_cross_entropy_with_logits\n    precise_logits, labels, name=name)\n  File \"/usr/local/lib/python2.7/dist-packages/tensorflow/python/ops/gen_nn_ops.py\", line 2378, in _sparse_softmax_cross_entropy_with_logits\n    features=features, labels=labels, name=name)\n  File \"/usr/local/lib/python2.7/dist-packages/tensorflow/python/framework/op_def_library.py\", line 759, in apply_op\n    op_def=op_def)\n  File \"/usr/local/lib/python2.7/dist-packages/tensorflow/python/framework/ops.py\", line 2240, in create_op\n    original_op=self._default_original_op, op_def=op_def)\n  File \"/usr/local/lib/python2.7/dist-packages/tensorflow/python/framework/ops.py\", line 1128, in __init__\n    self._traceback = _extract_stack()\n\nInvalidArgumentError (see above for traceback): Received a label value of 2665 which is outside the valid range of [0, 63).  Label values: 633 2665 10 67\n\t [[Node: model/loss/loss = SparseSoftmaxCrossEntropyWithLogits[T=DT_FLOAT, Tlabels=DT_INT32, _device=\"/job:localhost/replica:0/task:0/cpu:0\"](model/loss/Reshape, model/loss/Reshape_1)]]\n"
     ]
    }
   ],
   "source": [
    "sents = [\"once upon a time\",\n",
    "         \"the quick brown fox jumps over the lazy dog\"]\n",
    "load_and_score([s.split() for s in sents])"
   ]
  },
  {
   "cell_type": "code",
   "execution_count": 49,
   "metadata": {
    "collapsed": false
   },
   "outputs": [
    {
     "name": "stdout",
     "output_type": "stream",
     "text": [
      "\"the boy and the girl are\" : -36.40670\n",
      "\"the boy and the girl is\" : -34.56690\n",
      "\"the boys are\" : -16.81372\n",
      "\"the boys is\" : -16.17620\n",
      "\"there are many deer\" : -26.15632\n",
      "\"there are many deers\" : -19.46089\n"
     ]
    }
   ],
   "source": [
    "#### YOUR CODE HERE ####\n",
    "sents = [\"the boy and the girl are\",\n",
    "         \"the boy and the girl is\",\n",
    "         \n",
    "         \"the boys are\", \n",
    "         \"the boys is\",\n",
    "         \n",
    "         \"there are many deer\", \n",
    "         \"there are many deers\"]\n",
    "load_and_score([s.split() for s in sents])\n",
    "\n",
    "#### END(YOUR CODE) ####"
   ]
  },
  {
   "cell_type": "code",
   "execution_count": 59,
   "metadata": {
    "collapsed": false
   },
   "outputs": [
    {
     "name": "stdout",
     "output_type": "stream",
     "text": [
      "\"In a good market, Apple's price falls\" : -39.03466\n",
      "\"In a good market, Apple's price rises\" : -41.51408\n",
      "\"In a good market, Apple's price stays\" : -37.77964\n"
     ]
    }
   ],
   "source": [
    "#### YOUR CODE HERE ####\n",
    "\n",
    "sents = [\n",
    "         \"In a good market, Apple's price falls\",\n",
    "         \"In a good market, Apple's price rises\",\n",
    "    \"In a good market, Apple's price stays\"\n",
    "         ]\n",
    "load_and_score([s.split() for s in sents])\n",
    "\n",
    "\n",
    "#### END(YOUR CODE) ####"
   ]
  },
  {
   "cell_type": "code",
   "execution_count": 51,
   "metadata": {
    "collapsed": false
   },
   "outputs": [
    {
     "name": "stdout",
     "output_type": "stream",
     "text": [
      "\"I have lots of green plastic square toys\" : -61.22992\n",
      "\"I have lots of green square plastic toys\" : -62.09601\n",
      "\"I have lots of plastic green square toys\" : -62.21913\n",
      "\"I have lots of square green plastic toys\" : -62.24586\n",
      "\"I have lots of plastic square green toys\" : -62.28750\n",
      "\"I have lots of square plastic green toys\" : -66.11003\n"
     ]
    }
   ],
   "source": [
    "prefix = \"I have lots of\".split()\n",
    "noun = \"toys\"\n",
    "adjectives = [\"square\", \"green\", \"plastic\"]\n",
    "inputs = []\n",
    "for adjs in itertools.permutations(adjectives):\n",
    "  words = prefix + list(adjs) + [noun]\n",
    "  inputs.append(words)\n",
    "    \n",
    "load_and_score(inputs, sort=True)"
   ]
  },
  {
   "cell_type": "code",
   "execution_count": 52,
   "metadata": {
    "collapsed": false
   },
   "outputs": [
    {
     "name": "stdout",
     "output_type": "stream",
     "text": [
      "\"I have lots of green plastic flat toys\" : -57.62775\n",
      "\"I have lots of green flat plastic toys\" : -59.28275\n",
      "\"I have lots of plastic green flat toys\" : -59.49638\n",
      "\"I have lots of plastic flat green toys\" : -60.39898\n",
      "\"I have lots of flat plastic green toys\" : -60.96680\n",
      "\"I have lots of flat green plastic toys\" : -61.51214\n"
     ]
    }
   ],
   "source": [
    "prefix = \"I have lots of Apple\".split()\n",
    "noun = \"toys\"\n",
    "adjectives = [\"stocks\", \"pies\", \"computers\"]\n",
    "inputs = []\n",
    "for adjs in itertools.permutations(adjectives):\n",
    "  words = prefix + list(adjs) + [noun]\n",
    "  inputs.append(words)\n",
    "    \n",
    "load_and_score(inputs, sort=True)"
   ]
  },
  {
   "cell_type": "code",
   "execution_count": 53,
   "metadata": {
    "collapsed": false
   },
   "outputs": [
    {
     "name": "stdout",
     "output_type": "stream",
     "text": [
      "\"I have lots of green plastic round toys\" : -59.50684\n",
      "\"I have lots of plastic green round toys\" : -61.64307\n",
      "\"I have lots of green round plastic toys\" : -61.85661\n",
      "\"I have lots of plastic round green toys\" : -62.10223\n",
      "\"I have lots of round green plastic toys\" : -62.98605\n",
      "\"I have lots of round plastic green toys\" : -63.16181\n"
     ]
    }
   ],
   "source": [
    "prefix = \"The future of Apple \".split()\n",
    "noun = \"toys\"\n",
    "adjectives = [\"round\", \"green\", \"plastic\"]\n",
    "inputs = []\n",
    "for adjs in itertools.permutations(adjectives):\n",
    "  words = prefix + list(adjs) + [noun]\n",
    "  inputs.append(words)\n",
    "    \n",
    "load_and_score(inputs, sort=True)"
   ]
  },
  {
   "cell_type": "code",
   "execution_count": 54,
   "metadata": {
    "collapsed": false
   },
   "outputs": [
    {
     "name": "stdout",
     "output_type": "stream",
     "text": [
      "\"I have lots of small plastic green toys\" : -55.65118\n",
      "\"I have lots of small green plastic toys\" : -56.18058\n",
      "\"I have lots of green plastic small toys\" : -58.51525\n",
      "\"I have lots of plastic small green toys\" : -58.71899\n",
      "\"I have lots of green small plastic toys\" : -59.45413\n",
      "\"I have lots of plastic green small toys\" : -60.29629\n"
     ]
    }
   ],
   "source": [
    "prefix = \"I have lots of\".split()\n",
    "noun = \"toys\"\n",
    "adjectives = [\"small\", \"green\", \"plastic\"]\n",
    "inputs = []\n",
    "for adjs in itertools.permutations(adjectives):\n",
    "  words = prefix + list(adjs) + [noun]\n",
    "  inputs.append(words)\n",
    "    \n",
    "load_and_score(inputs, sort=True)"
   ]
  },
  {
   "cell_type": "code",
   "execution_count": null,
   "metadata": {
    "collapsed": true
   },
   "outputs": [],
   "source": []
  }
 ],
 "metadata": {
  "kernelspec": {
   "display_name": "Python 2",
   "language": "python",
   "name": "python2"
  },
  "language_info": {
   "codemirror_mode": {
    "name": "ipython",
    "version": 2
   },
   "file_extension": ".py",
   "mimetype": "text/x-python",
   "name": "python",
   "nbconvert_exporter": "python",
   "pygments_lexer": "ipython2",
   "version": "2.7.6"
  }
 },
 "nbformat": 4,
 "nbformat_minor": 0
}
